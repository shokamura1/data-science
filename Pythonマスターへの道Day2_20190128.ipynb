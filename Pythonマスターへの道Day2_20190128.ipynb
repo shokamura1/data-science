{
 "cells": [
  {
   "cell_type": "code",
   "execution_count": 1,
   "metadata": {
    "collapsed": true
   },
   "outputs": [],
   "source": [
    "# ■学習回数\n",
    "# 1回目：　2019年1月27日\n",
    "# 2回目：　2019年1月27日\n",
    "# 3回目：  2019年1月\n",
    "# 4回目：\n",
    "# 5回目：\n",
    "# 6回目：　\n",
    "# 7回目：　"
   ]
  },
  {
   "cell_type": "markdown",
   "metadata": {
    "slideshow": {
     "slide_type": "slide"
    }
   },
   "source": [
    "# 宿題\n",
    "## 宿題1\n",
    "- [10,20,44,142,2343,5342,32,542]の数列の中から10の位が４で、偶数の数字を\n",
    "list型で出力するプログラムを作成してください。"
   ]
  },
  {
   "cell_type": "code",
   "execution_count": 2,
   "metadata": {
    "slideshow": {
     "slide_type": "-"
    }
   },
   "outputs": [
    {
     "name": "stdout",
     "output_type": "stream",
     "text": [
      "[44, 142, 5342, 542]\n"
     ]
    }
   ],
   "source": [
    "in_list = [10, 20, 44, 142, 2343, 5342, 32, 542]   # in_listにリストを代入する\n",
    "out_list = []   # out_listに空リストを代入する\n",
    "for i in in_list:   # in_listに代入されている要素に対して\n",
    "    if str(i)[-2] == \"4\" and i % 2 == 0:   # in_listに代入されている要素の10の位が4で、2で割って余りが0の場合(つまり、偶数の場合)\n",
    "        out_list.append(i)   # out_listに要素を代入する\n",
    "print(out_list)   # out_listを表示する"
   ]
  },
  {
   "cell_type": "code",
   "execution_count": 3,
   "metadata": {},
   "outputs": [
    {
     "name": "stdout",
     "output_type": "stream",
     "text": [
      "False\n"
     ]
    }
   ],
   "source": [
    "# ●ヒント\n",
    "# 以下の要領で分割して考える\n",
    "# 1. 10の位が4であることを判断する\n",
    "# 2. 偶数の数字であることを判断する\n",
    "# 3. リスト型で出力する\n",
    "\n",
    "# 1.を簡単なプログラムで考えてみる\n",
    "\n",
    "a = 54   # aに54を代入する\n",
    "print(str(a)[-2] == '4')   # aを文字列型に変換し、10の位が4であるかどうかの結果を表示する\n",
    "\n",
    "# ●ヒント\n",
    "# 取り出しやスライスは文字列型のデータにしか操作できないため、aを文字列型に変換する必要有"
   ]
  },
  {
   "cell_type": "markdown",
   "metadata": {
    "slideshow": {
     "slide_type": "slide"
    }
   },
   "source": [
    "## 宿題2\n",
    "以下のルールを元に、3つの数字を引数に取り、list型を返す関数を作成せよ。\n",
    "- 返り値となるlist型の数列は公差数列とする。\n",
    "- １番目の引数に数列の先頭の要素の数字\n",
    "- 2番目の引数は公差とする。\n",
    "- 3番目の引数は要素の個数とする。\n",
    "\n",
    "例)引数１に3を、引数2に4を、引数3に5を入力すると、[3,7,11,15,19]を出力する。"
   ]
  },
  {
   "cell_type": "code",
   "execution_count": 4,
   "metadata": {
    "slideshow": {
     "slide_type": "-"
    }
   },
   "outputs": [
    {
     "data": {
      "text/plain": [
       "[3, 7, 11, 15, 19]"
      ]
     },
     "execution_count": 4,
     "metadata": {},
     "output_type": "execute_result"
    }
   ],
   "source": [
    "def make_list(num1, num2, num3):   # ユーザー定義関数 make_listを定義する\n",
    "    out_list = [num1]   # out_listに1番目の要素を代入する\n",
    "    for i in range(num3-1):   # 要素の個数-1回、for文をまわす\n",
    "        out_list.append(out_list[-1] + num2)   # out_listの1番目引数にnum2を追加する\n",
    "    return out_list   # out_listの戻り値を返す\n",
    "make_list(3,4,5)   # ユーザー定義関数make_listに3，4，5を代入して戻り値を返す"
   ]
  },
  {
   "cell_type": "code",
   "execution_count": 5,
   "metadata": {
    "collapsed": true
   },
   "outputs": [],
   "source": [
    "# ●ヒント\n",
    "# 以下の要領で分割して考える\n",
    "# 1. 返り値のリスト型数列を公差数列にする\n",
    "# 2. 1番目の引数に数列の先頭の要素の数字を設定する\n",
    "# 3. 2番目の引数は、公差に設定する\n",
    "# 4. 3番目の引数は、要素の個数を設定する"
   ]
  },
  {
   "cell_type": "markdown",
   "metadata": {
    "slideshow": {
     "slide_type": "slide"
    }
   },
   "source": [
    "## 宿題3\n",
    "- text = \"27 834:364 8 2 3:88 4:324 9\"\n",
    "- : があるまでの要素を足し算し、listで出力せよ\n",
    "\n",
    "- 出力:[861, 377, 92, 333]"
   ]
  },
  {
   "cell_type": "code",
   "execution_count": 6,
   "metadata": {
    "slideshow": {
     "slide_type": "-"
    }
   },
   "outputs": [
    {
     "ename": "IndentationError",
     "evalue": "expected an indented block (<ipython-input-6-3d6afcd44692>, line 5)",
     "output_type": "error",
     "traceback": [
      "\u001b[1;36m  File \u001b[1;32m\"<ipython-input-6-3d6afcd44692>\"\u001b[1;36m, line \u001b[1;32m5\u001b[0m\n\u001b[1;33m    for t in text:   # textのtに対してあ\u001b[0m\n\u001b[1;37m      ^\u001b[0m\n\u001b[1;31mIndentationError\u001b[0m\u001b[1;31m:\u001b[0m expected an indented block\n"
     ]
    }
   ],
   "source": [
    "text = \"27 834:364 8 2 3:88 4:324 9\"   # textにデータを代入する\n",
    "out_list = []   # out_listに空リストを代入する\n",
    "text = text.split(\":\")   # textを:で区切る\n",
    "for t in text:   # textのtに対してあ\n",
    "for t in text:   # textのtに対してあ\n",
    "    tmp = t.split(\" \")   # 半角スペース( )で区切って、tmpに代入する\n",
    "    tmp_sum = 0   # tmp_sumに0を代入する\n",
    "    for tm in tmp:   # tmpのtmに対して\n",
    "        tmp_sum += int(tm)   # tump_sumに、tmを整数型に変換、足したデータを代入する\n",
    "    out_list.append(tmp_sum)   # out_listにtmp_sumを追加する\n",
    "print(out_list)   # out_listを出力する"
   ]
  },
  {
   "cell_type": "code",
   "execution_count": null,
   "metadata": {
    "collapsed": true
   },
   "outputs": [],
   "source": [
    "# ●ヒント\n",
    "# 以下の要領で分割して考える\n",
    "# 1. textに\"27 834:364 8 2 3:88 4:324 9\"を代入する\n",
    "# 2. :の位置を特定する\n",
    "# 3. :までの要素を足す\n",
    "# 4. リスト型で出力する\n",
    "\n",
    "# 2.のプログラムを簡単な例で考えてみる\n",
    "text = '27 834:364 8 2 3:88 4:324 9'   # textにデータを代入する\n",
    "text = text.split(':')   # データ内の:で区切る\n",
    "print(text)   # textを出力する"
   ]
  },
  {
   "cell_type": "code",
   "execution_count": null,
   "metadata": {
    "collapsed": true,
    "slideshow": {
     "slide_type": "-"
    }
   },
   "outputs": [],
   "source": [
    "# 別解\n",
    "# 内包表記を使って書くこともできる\n",
    "# ただしコードの可読性が劣る\n",
    "\n",
    "text = \"27 834:364 8 2 3:88 4:324 9\"   # textにデータを代入する\n",
    "out_list = [sum([int(t_) for t_ in t.split(\" \")]) for t in text.split(\":\")]\n",
    "print(out_list)   # out_listを出力する"
   ]
  },
  {
   "cell_type": "markdown",
   "metadata": {
    "slideshow": {
     "slide_type": "slide"
    }
   },
   "source": [
    "# 復習問題"
   ]
  },
  {
   "cell_type": "markdown",
   "metadata": {
    "slideshow": {
     "slide_type": "slide"
    }
   },
   "source": [
    "## 復習問題１\n",
    "- 数字(int型)を入力するとそのままの値を返し、数字(int型)以外が入力されると0を出力するプログラムを作成せよ\n",
    "---\n",
    "- 入力:\"abcdef\"\n",
    "- 出力:0\n",
    "\n",
    "---\n",
    "- 入力:888\n",
    "- 出力:888"
   ]
  },
  {
   "cell_type": "code",
   "execution_count": null,
   "metadata": {
    "collapsed": true
   },
   "outputs": [],
   "source": [
    "# ●ヒント\n",
    "# 以下の要領で分割して考える\n",
    "# 1. 数値型かどうかを判断する\n",
    "# 2. 数値型のデータの場合は、そのままの値を返す\n",
    "# 3. 数値型以外のデータの場合は、0を返す"
   ]
  },
  {
   "cell_type": "code",
   "execution_count": null,
   "metadata": {
    "collapsed": true,
    "slideshow": {
     "slide_type": "slide"
    }
   },
   "outputs": [],
   "source": [
    "# 回等例1\n",
    "number = input(\"数字を入力してください\")   # 数字を入力してくださいと出力する\n",
    "if number == type(int):   # numberが整数型の場合\n",
    "    print(number)   # numberを表示する\n",
    "elif number != type(int):   # numberが整数ではない場合\n",
    "    print(0)   # 0を表示する"
   ]
  },
  {
   "cell_type": "code",
   "execution_count": null,
   "metadata": {
    "collapsed": true
   },
   "outputs": [],
   "source": [
    "# 模範解答\n",
    "inp = 'abcdef'   # inpにabcdefを代入する\n",
    "if type(inp) == int:   # inpが整数型の場合\n",
    "    print(inp)   # inpを出力する\n",
    "elif type(inp) != int:   # inpが整数型以外の場合\n",
    "    print(0)   # 0を出力する"
   ]
  },
  {
   "cell_type": "markdown",
   "metadata": {
    "slideshow": {
     "slide_type": "slide"
    }
   },
   "source": [
    "## 復習問題2\n",
    "- listの要素の一つ一つを確認し、数字(int型)を入力するとそのままの値を、数字(int型)以外が入力されると0に置換し、listを変換するプログラムを作成せよ\n",
    "\n",
    "---\n",
    "- 入力:[\"pqr\",45,\"text\",3254,\"abcdef\",567]\n",
    "- 出力:[0,45,0,3254,0,567]"
   ]
  },
  {
   "cell_type": "code",
   "execution_count": null,
   "metadata": {
    "collapsed": true
   },
   "outputs": [],
   "source": [
    "# ●ヒント\n",
    "# 以下の要素に分解して考える\n",
    "# 1. リスト要素の一つずつを確認する\n",
    "# 2. 整数型が入力された場合は、そのままの値を返す\n",
    "# 3. 整数型以外のデータが入力された場合は、0を返す\n",
    "# 4. 整数型以外のデータをリストに変換する"
   ]
  },
  {
   "cell_type": "code",
   "execution_count": null,
   "metadata": {
    "collapsed": true
   },
   "outputs": [],
   "source": [
    "# 模範解答\n",
    "inp_list = [\"pqr\", 45, \"text\", 3254, \"abcdef\", 567]   # inp_listにリストを代入する\n",
    "out_list = []   # out_listに空リストを代入する\n",
    "for i in inp_list:   # inp_listに格納されている要素に対して以下の処理を行う\n",
    "    if type(i) == int:   # もしiが数値型だった場合は以下の処理をする\n",
    "        out_list.append(i)   # out_listにiを追加する\n",
    "    elif type(i) != int:   # もしiが数値型以外のデータだった場合\n",
    "        out_list.append(0)   # out_listに0を追加する\n",
    "\n",
    "print(out_list)   # out_listを出力する"
   ]
  },
  {
   "cell_type": "markdown",
   "metadata": {
    "slideshow": {
     "slide_type": "slide"
    }
   },
   "source": [
    "## 復習問題3\n",
    "下記の3つのlistを辞書型に変換せよ。\n",
    "\n",
    " ---\n",
    " - name_list = [\"sato\",\"tanaka\",\"takahashi\"]\n",
    " - height_list = [170,156,182]\n",
    " - weight_list = [67,54,71]\n",
    " - age_list = [54,34,49]\n",
    " \n",
    " \n",
    " ---\n",
    " - out_dict = {'sato': {'身長': '170', '体重': '67', '年齢': '54'}, 'tanaka': {'身長': '156', '体重': '54', '年齢': '34'}, 'takahashi': {'身長': '182', '体重': '71', '年齢': '49'}}"
   ]
  },
  {
   "cell_type": "code",
   "execution_count": null,
   "metadata": {
    "collapsed": true
   },
   "outputs": [],
   "source": [
    "# ●ヒント\n",
    "# 以下の要素に分解して考える\n",
    "# 1. name_listにリストを代入する\n",
    "# 2. height_listにリストを代入する\n",
    "# 3. weight_listにリストを代入する\n",
    "# 4. age_listにリストを代入する\n",
    "# 5. 最終アウトプットであるout_dictに空の辞書を代入する(空の辞書を用意する)\n",
    "# 6. name_listの要素を一つずる数え上げる\n",
    "# 7. info_dictに空の辞書を代入する(空の辞書を用意する)\n",
    "# 8. info_dictの辞書の中に、身長、体重、年齢のリストを格納する\n",
    "# 9. out_dictのリストにinfoを代入する\n",
    "# 10. out_dictの辞書を出力する\n",
    "\n",
    "# ●ヒント\n",
    "# Pythonでの標準的なコーディング規則は、PEP8を参照のこと\n",
    "# ,の後は (半角スペース)を入れたり、\"\"(ダブルクオテーション)と''(シングルクオテーション)の使い方を統一する\n",
    "# 細かな点ではあるが、コードの可読性に影響を与えるため、PEP8に記載されているコーディング規約に目を通しておくと、後々、役に立つ\n",
    "\n",
    "# PEP8\n",
    "# https://pep8-ja.readthedocs.io/ja/latest/"
   ]
  },
  {
   "cell_type": "code",
   "execution_count": null,
   "metadata": {
    "collapsed": true,
    "slideshow": {
     "slide_type": "slide"
    }
   },
   "outputs": [],
   "source": [
    "# 模範解答\n",
    "name_list = [\"sato\", \"tanaka\", \"takahashi\"]   # name_listにリストを代入する\n",
    "height_list = [170, 156, 182]   # height_listにリストを代入する\n",
    "weight_list = [67, 54, 71]   # weight_listにリストを代入する\n",
    "age_list = [54, 34, 49]   # age_listにリストを代入する\n",
    "\n",
    "out_dict = {}   # out_dictに空の辞書を代入する\n",
    "for i,n in enumerate(name_list):   # name_listに格納されている要素を数え上げる\n",
    "    info = {}   # infoに空の辞書を代入する(sato, tanaka, takahashiごとの情報を格納する辞書を用意する)\n",
    "    info[\"身長\"] = height_list[i]   # info['身長']のリストにheight_listを代入する\n",
    "    info[\"体重\"] = weight_list[i]   # info['体重']のリストにweight_listを代入する\n",
    "    info[\"年齢\"] = age_list[i]      # info['年齢']のリストにage_listを代入する\n",
    "    out_dict[n] = info   # out_dictのリストにinfoを代入する\n",
    "    \n",
    "print(out_dict)   # out_dictを出力する"
   ]
  },
  {
   "cell_type": "markdown",
   "metadata": {
    "slideshow": {
     "slide_type": "slide"
    }
   },
   "source": [
    "# ファイル入出力"
   ]
  },
  {
   "cell_type": "markdown",
   "metadata": {
    "slideshow": {
     "slide_type": "slide"
    }
   },
   "source": [
    "## txtファイルの扱い\n",
    "### txtファイルの読み込み方法\n",
    "- open(\"ファイル名\",\"r\") as fでファイルを読み込みモードでファイルを開き、変数fに代入\n",
    "- with文のインデントの中でのみファイルが開かれる\n",
    "- f.read()でファイルの中身をstr型で読み込む\n",
    "- closeを書く必要がない"
   ]
  },
  {
   "cell_type": "code",
   "execution_count": null,
   "metadata": {
    "collapsed": true
   },
   "outputs": [],
   "source": [
    "# ■利用場面\n",
    "# 外部データやファイルをPythonに読み込む場合に使う"
   ]
  },
  {
   "cell_type": "code",
   "execution_count": null,
   "metadata": {
    "collapsed": true,
    "slideshow": {
     "slide_type": "-"
    }
   },
   "outputs": [],
   "source": [
    "fn1 = \"sample1.txt\"   # fn1にsample1.txtに代入する\n",
    "with open(fn1, \"r\", encoding = \"utf-8\") as f:   # fn1を読み込みモードでutf-8の文字コードでfとして開く\n",
    "    txt = f.read()   # fを読み込み、txtに代入する\n",
    "print(txt)   # txtを表示する"
   ]
  },
  {
   "cell_type": "markdown",
   "metadata": {
    "slideshow": {
     "slide_type": "slide"
    }
   },
   "source": [
    "### txtファイルへの書き出し(上書き)\n",
    "- open(\"ファイル名\",\"w\") as fでファイルを上書きモードで開く\n",
    "- f.write(str型)でファイルに書き込み"
   ]
  },
  {
   "cell_type": "code",
   "execution_count": null,
   "metadata": {
    "collapsed": true,
    "slideshow": {
     "slide_type": "-"
    }
   },
   "outputs": [],
   "source": [
    "new_txt = \"あいうえお\"   # new_txtに文字列を代入する\n",
    "with open(fn1,\"w\",encoding=\"utf-8\") as f:   # fn1を上書きモードでutf-8の文字コードでfとして開く\n",
    "    f.write(new_txt)   # new_txt(あいうえお)を書き込む"
   ]
  },
  {
   "cell_type": "code",
   "execution_count": null,
   "metadata": {
    "collapsed": true
   },
   "outputs": [],
   "source": [
    "# 正しく書き込めているか確認\n",
    "with open(fn1,\"r\",encoding=\"utf-8\") as f:   # fn1を読み込みモード、utf-8の文字コードでfとして開く\n",
    "    txt = f.read()   # fを読み込み、txtに代入する\n",
    "print(txt)   # txtを表示する"
   ]
  },
  {
   "cell_type": "markdown",
   "metadata": {
    "slideshow": {
     "slide_type": "slide"
    }
   },
   "source": [
    "### txtファイルへの書き出し(追加)\n",
    "- open(\"ファイル名\",\"a\") as fでファイルを追記モードで開く"
   ]
  },
  {
   "cell_type": "code",
   "execution_count": null,
   "metadata": {
    "collapsed": true
   },
   "outputs": [],
   "source": [
    "app_txt = \"かきくけこ\"   # app_txtに文字列を代入する\n",
    "with open(fn1, \"a\", encoding = \"utf-8\") as f:   # fn1を追加モードでutf-8の文字コードでfとして開く\n",
    "    f.write(app_txt)   # app_txt(かきくけこ)を書き込む"
   ]
  },
  {
   "cell_type": "code",
   "execution_count": null,
   "metadata": {
    "collapsed": true
   },
   "outputs": [],
   "source": [
    "# 正しく書き込めているか確認\n",
    "with open(fn1, \"r\", encoding = \"utf-8\") as f:   # fn1を読み込みモード、utf-8の文字コードでfとして開く\n",
    "    txt = f.read()   # fを読み込み、txtに代入する\n",
    "print(txt)   # txtを表示する"
   ]
  },
  {
   "cell_type": "code",
   "execution_count": null,
   "metadata": {
    "collapsed": true
   },
   "outputs": [],
   "source": [
    "# ●ヒント\n",
    "# ここでは読み込み、書き出し、追加の3つのモードを見てきたが、iという追加(insert)というモードもある"
   ]
  },
  {
   "cell_type": "markdown",
   "metadata": {
    "slideshow": {
     "slide_type": "slide"
    }
   },
   "source": [
    "## csvファイルの扱い\n",
    "### csvファイルの読み込み\n",
    "- csvモジュールを使うとcsvファイルを読み込むことができる\n",
    "- あまり使われないが、綺麗な形式でないcsvファイルはこれを使って読み込む"
   ]
  },
  {
   "cell_type": "code",
   "execution_count": null,
   "metadata": {
    "collapsed": true
   },
   "outputs": [],
   "source": [
    "import csv   # csvモジュールを読み込む\n",
    "fn2= \"sample2.csv\"   # fn2にsample1.csvを代入する\n",
    "with open(fn2, \"r\", encoding = \"utf-8\") as f:   # fn2を読み込みモードでutf-8の文字コードでfとして開く\n",
    "    reader = csv.reader(f)   # fを読み込み、readerに代入する\n",
    "    \n",
    "    for row in reader:   # readerの行を対象に\n",
    "        print(row)   # rowを出力する"
   ]
  },
  {
   "cell_type": "markdown",
   "metadata": {
    "slideshow": {
     "slide_type": "slide"
    }
   },
   "source": [
    "### csvファイルの読み込み(Pandas)\n",
    "- 次回詳しく解説\n",
    "- csvの読み込みはpandasを用いるのが一般的"
   ]
  },
  {
   "cell_type": "code",
   "execution_count": null,
   "metadata": {
    "collapsed": true
   },
   "outputs": [],
   "source": [
    "import pandas as pd   # pandasモジュールを読み込みpdと定義する\n",
    "df = pd.read_csv(fn2)   # CSVファイルを読み込みfn2に代入し、dfに代入する\n",
    "display(df)   # dfを表示する"
   ]
  },
  {
   "cell_type": "code",
   "execution_count": null,
   "metadata": {
    "collapsed": true
   },
   "outputs": [],
   "source": [
    "# ●ヒント\n",
    "# Pandasモジュールを使うと、CSVファイルをExcel表形式で表示することが出来る"
   ]
  },
  {
   "cell_type": "markdown",
   "metadata": {
    "slideshow": {
     "slide_type": "slide"
    }
   },
   "source": [
    "## jsonファイルへの扱い\n",
    "### json形式のファイル読み込み\n",
    "- with文やopen()の使い方はテキストの読み込み時と同様\n",
    "- json.load()を使うとjson型で格納されているファイルをdict型で読み混む"
   ]
  },
  {
   "cell_type": "code",
   "execution_count": null,
   "metadata": {
    "collapsed": true
   },
   "outputs": [],
   "source": [
    "# ■利用場面\n",
    "# JSON形式は外部サービスとのファイルをやりとりをする際に使われるファイル形式である\n",
    "# 特に外部APIは、JSON形式でデータをやり取りすることが多い"
   ]
  },
  {
   "cell_type": "code",
   "execution_count": null,
   "metadata": {
    "collapsed": true
   },
   "outputs": [],
   "source": [
    "import json   # jsonモジュールを読み込む\n",
    "fn3 = \"sample3.json\"   # sample3.jsonをfn3に代入する\n",
    "with open(fn3, \"r\", encoding = \"utf-8\") as f:   # fn3を読み込みモードでutf-8の文字コードでfとして開く\n",
    "    info_dic = json.load(f)   # fを読み込み、info_dicに代入する\n",
    "print(info_dic)   # info_dicを出力する"
   ]
  },
  {
   "cell_type": "markdown",
   "metadata": {
    "slideshow": {
     "slide_type": "slide"
    }
   },
   "source": [
    "### json形式でのファイル書き出し\n",
    "- 山田さんの情報を追加し、jsonファイルを上書き保存する\n",
    "\n",
    "\n",
    "- json形式に変換する際は、json.dump(辞書型)を使う"
   ]
  },
  {
   "cell_type": "code",
   "execution_count": null,
   "metadata": {
    "collapsed": true
   },
   "outputs": [],
   "source": [
    "# 山田さんの情報を追加\n",
    "# 辞書型で山田さんのデータを追加する\n",
    "info_dic[\"yamada\"] = {\n",
    "                                    \"身長\":179,\n",
    "                                    \"体重\":80,\n",
    "                                    \"年齢\":25\n",
    "                                }"
   ]
  },
  {
   "cell_type": "code",
   "execution_count": null,
   "metadata": {
    "collapsed": true
   },
   "outputs": [],
   "source": [
    "# 上書き保存\n",
    "with open(fn3, \"w\", encoding = \"utf-8\") as f:   # fn3を上書きモードでutf-8の文字コードでfとして開く\n",
    "    json.dump(info_dic,f)   # info_dicにfのデータを書き込む"
   ]
  },
  {
   "cell_type": "code",
   "execution_count": null,
   "metadata": {
    "collapsed": true,
    "scrolled": true
   },
   "outputs": [],
   "source": [
    "# 正しく書き込めているか確認\n",
    "with open(fn3, \"r\", encoding = \"utf-8\") as f:   # fn3を読み込みモード、utf-8の文字コードでfとして開く\n",
    "    print(json.load(f))   # fを表示する"
   ]
  },
  {
   "cell_type": "markdown",
   "metadata": {
    "slideshow": {
     "slide_type": "slide"
    }
   },
   "source": [
    "## 演習問題\n",
    "身長が169,体重が57,年齢が56のushikuさんのデータをinfo_dicに追加し、problem1.jsonに保存せよ"
   ]
  },
  {
   "cell_type": "code",
   "execution_count": null,
   "metadata": {
    "collapsed": true,
    "slideshow": {
     "slide_type": "slide"
    }
   },
   "outputs": [],
   "source": [
    "# 牛久さんの情報を追加\n",
    "info_dic[\"ushiku\"] = {\n",
    "                                    \"身長\":179,\n",
    "                                    \"体重\":80,\n",
    "                                    \"年齢\":25\n",
    "                                }\n",
    "\n",
    "with open(\"ploblem1.json\", \"w\", encoding = \"utf-8\") as f:   # problem1.jsonを上書きモードでutf-8の文字コードでfとして開く\n",
    "    json.dump(info_dic,f)   # info_dicにfのデータを書き込む"
   ]
  },
  {
   "cell_type": "code",
   "execution_count": null,
   "metadata": {
    "collapsed": true
   },
   "outputs": [],
   "source": [
    "# 正しく保存されているか確認\n",
    "with open(\"ploblem1.json\", \"r\", encoding = \"utf-8\") as f:   # problem1.jsonを読み込みモードでutf-8の文字コードでfとして開く\n",
    "    print(json.load(f))   # fのデータを表示する"
   ]
  },
  {
   "cell_type": "markdown",
   "metadata": {
    "slideshow": {
     "slide_type": "slide"
    }
   },
   "source": [
    "# osを用いたファイル操作"
   ]
  },
  {
   "cell_type": "markdown",
   "metadata": {
    "slideshow": {
     "slide_type": "slide"
    }
   },
   "source": [
    "## 作業ディレクトリの取得\n",
    "- os.getcwd()で現在の作業ディレクトリを取得"
   ]
  },
  {
   "cell_type": "code",
   "execution_count": null,
   "metadata": {
    "collapsed": true
   },
   "outputs": [],
   "source": [
    "import os  # osモジュールを読み込む\n",
    "print(os.getcwd())   # 作業ディレクトリを表示する"
   ]
  },
  {
   "cell_type": "code",
   "execution_count": null,
   "metadata": {
    "collapsed": true
   },
   "outputs": [],
   "source": [
    "# ●ヒント\n",
    "# 作業ディレクトリは、ワーキング・ディレクトリとも呼ばれ、jupyter notebookで開いている\n",
    "# iPython Notebookのファイル一式が置かれているディレクトリを指す"
   ]
  },
  {
   "cell_type": "markdown",
   "metadata": {
    "slideshow": {
     "slide_type": "slide"
    }
   },
   "source": [
    "## ディレクトリの作成\n",
    "- os.mkdirでディレクトリを作成できる\n",
    "- 既存の名前のディレクトリは作成できない"
   ]
  },
  {
   "cell_type": "code",
   "execution_count": null,
   "metadata": {
    "collapsed": true
   },
   "outputs": [],
   "source": [
    "print(os.listdir())   # 現在のディレクトリに表示する\n",
    "os.mkdir(\"data\")   # dataというディレクトリを作成する\n",
    "print(os.listdir())   # 現在のディレクトリに表示する"
   ]
  },
  {
   "cell_type": "code",
   "execution_count": null,
   "metadata": {
    "collapsed": true
   },
   "outputs": [],
   "source": [
    "# ●ヒント\n",
    "# listdirはディレクトリの表示を意味する　list = 一覧表示を意味する\n",
    "# mkdirはディレクトリの作成を意味する　mk = makeの略で作成を意味する"
   ]
  },
  {
   "cell_type": "markdown",
   "metadata": {
    "slideshow": {
     "slide_type": "slide"
    }
   },
   "source": [
    "## ファイル/フォルダの削除\n",
    "- os.remove(ファイル名)でファイルを削除できる\n",
    "- ディレクトリの削除はshutilを使う\n",
    "- shutil.rmtree(\"ディレクトリ名\")でディレクトリの削除ができる"
   ]
  },
  {
   "cell_type": "code",
   "execution_count": null,
   "metadata": {
    "collapsed": true
   },
   "outputs": [],
   "source": [
    "os.remove(\"sample1.txt\")   # sample.txtファイルを削除する\n",
    "import shutil   # shutilモジュールを読み込む\n",
    "shutil.rmtree(\"data\")   # 'data'ディレクトリを削除する"
   ]
  },
  {
   "cell_type": "markdown",
   "metadata": {
    "slideshow": {
     "slide_type": "slide"
    }
   },
   "source": [
    "## osを跨いだpathの指定\n",
    "- osが違うとファイルパスの指定の仕方が異なる\n",
    "- その問題を解決するため、os.path.joinは文字列を結合させ、一つのパスにする"
   ]
  },
  {
   "cell_type": "code",
   "execution_count": null,
   "metadata": {
    "collapsed": true
   },
   "outputs": [],
   "source": [
    "c_dir = str(os.getcwd())   # 作業ディレクトリを文字列化して、c_dirに代入する\n",
    "print(c_dir)   # c_dirを出力する\n",
    "print(os.path.join(c_dir, \"data\"))   # c_dirとdataを結合したパスを出力する"
   ]
  },
  {
   "cell_type": "markdown",
   "metadata": {
    "slideshow": {
     "slide_type": "slide"
    }
   },
   "source": [
    "## 演習問題\n",
    "- data1というディレクトリを作成し、その中にfolder1~folder10という名前のディレクトリを作成せよ"
   ]
  },
  {
   "cell_type": "code",
   "execution_count": null,
   "metadata": {
    "collapsed": true,
    "slideshow": {
     "slide_type": "slide"
    }
   },
   "outputs": [],
   "source": [
    "# 模範解答\n",
    "import os   # osモジュールを読み込む\n",
    "print(os.listdir())   # 現在のディレクトリに表示する \n",
    "os.mkdir(\"data1\")   # data1というディレクトリを作成する\n",
    "print(os.listdir())   # 現在のディレクトリに表示する\n",
    "\n",
    "for i in range(10):   # 10までの範囲で\n",
    "    fn = \"folder\" + str(i + 1)   # fnにfolerにiに1を加えた数を結合する\n",
    "    path = os.path.join(\"data1\",fn)   # 'data1'にfnを結合したパスをpathに代入する(相対パスで指定する)\n",
    "    os.mkdir(path)   # pathというディレクトリを作成する\n",
    "print(os.listdir(\"data1\"))   # data1というディレクトリを表示する"
   ]
  },
  {
   "cell_type": "markdown",
   "metadata": {
    "slideshow": {
     "slide_type": "slide"
    }
   },
   "source": [
    "# pickleの扱い"
   ]
  },
  {
   "cell_type": "markdown",
   "metadata": {
    "slideshow": {
     "slide_type": "slide"
    }
   },
   "source": [
    "## pickleを使ったオブジェクトの保存\n",
    "- pickleは英語で漬物を表す(作成したものを長く保管するイメージ)\n",
    "- pickleを使うと複雑な構造のオブジェクトも保存することができる\n",
    "- pickle.dump(オブジェクト)でオブジェクトをpickleで保存することができる"
   ]
  },
  {
   "cell_type": "code",
   "execution_count": null,
   "metadata": {
    "collapsed": true
   },
   "outputs": [],
   "source": [
    "import pickle   # pickleモジュールを読み込む\n",
    "obj = [{\"a\":\"abcdef\", \"b\":\"fgfrerg\"}, 453, \"frkjahgt\", [2, 34, 6]]   # objにデータを代入する\n",
    "with open(\"obj.pickle\",\"wb\") as f:   # obj.pickleをバイナリー上書きモードでfとして開く\n",
    "    pickle.dump(obj,f)   # fのデータをobjに代入し出力する"
   ]
  },
  {
   "cell_type": "code",
   "execution_count": null,
   "metadata": {
    "collapsed": true
   },
   "outputs": [],
   "source": [
    "# ●ヒント\n",
    "# pickleはPython特有のデータ型で、Python以外では扱えないので注意が必要\n",
    "# 辞書型の中にリストや文字列、数値型を入り混じっているような複雑な型のデータ保存に便利である\n",
    "# pickle形式のデータを書き込む際は、wbのバイナリーモードで書き込む必要がある"
   ]
  },
  {
   "cell_type": "markdown",
   "metadata": {
    "slideshow": {
     "slide_type": "slide"
    }
   },
   "source": [
    "## pickleデータの読みこみ\n",
    "- pickle.load()でpickleを読み込むことができる\n",
    "- 読み込むとpickle化する前と同様にオブジェクトを扱うことができる"
   ]
  },
  {
   "cell_type": "code",
   "execution_count": null,
   "metadata": {
    "collapsed": true
   },
   "outputs": [],
   "source": [
    "with open(\"obj.pickle\", \"rb\") as f:   # obk.pickleをバイナリ読み込みモードでfとして開く\n",
    "    lpk = pickle.load(f)   # fをlpkに代入する\n",
    "    \n",
    "print(lpk)   # lpkを出力する\n",
    "print(lpk[0]['a'])  "
   ]
  },
  {
   "cell_type": "code",
   "execution_count": null,
   "metadata": {
    "collapsed": true
   },
   "outputs": [],
   "source": [
    "# ●ヒント\n",
    "# pickle形式のデータを読み込む際は、rbのバイナリーモードで開く必要がある"
   ]
  },
  {
   "cell_type": "markdown",
   "metadata": {
    "slideshow": {
     "slide_type": "slide"
    }
   },
   "source": [
    "# collectionsのcounterの扱い"
   ]
  },
  {
   "cell_type": "markdown",
   "metadata": {
    "slideshow": {
     "slide_type": "slide"
    }
   },
   "source": [
    "## 要素のカウント\n",
    "### listにおけるカウント\n",
    "- collections.Counter(リスト)でユニークな要素とその登場頻度を出力"
   ]
  },
  {
   "cell_type": "code",
   "execution_count": null,
   "metadata": {
    "collapsed": true
   },
   "outputs": [],
   "source": [
    "# ■利用場面\n",
    "# リスト内に要素がいくつ入っているかを基礎集計する際に役立つ\n",
    "# リスト型だけで文字列型でも使える"
   ]
  },
  {
   "cell_type": "code",
   "execution_count": null,
   "metadata": {
    "collapsed": true
   },
   "outputs": [],
   "source": [
    "# リスト型\n",
    "import collections   # collectionsモジュールを読み込む\n",
    "listA = ['a', 'a', 'a', 'a', 'b', 'c', 'c']   # listAにリストを代入する\n",
    "\n",
    "colA = collections.Counter(listA)   # colAにlistAのユニークな要素と出現頻度を代入する\n",
    "print(colA)   # colAを出力する"
   ]
  },
  {
   "cell_type": "markdown",
   "metadata": {
    "slideshow": {
     "slide_type": "slide"
    }
   },
   "source": [
    "### strに置けるカウント\n",
    "- collections.Counter(文字列)でユニークな文字とその登場頻度を出力"
   ]
  },
  {
   "cell_type": "code",
   "execution_count": null,
   "metadata": {
    "collapsed": true
   },
   "outputs": [],
   "source": [
    "# 文字列型\n",
    "text = \"adjfhjggggsr\"   # textにデータを代入する\n",
    "col_txt = collections.Counter(text)   # col_txtにtextのユニークな要素と出現頻度を代入する\n",
    "print(col_txt)   # col_txtを出力する"
   ]
  },
  {
   "cell_type": "markdown",
   "metadata": {
    "slideshow": {
     "slide_type": "slide"
    }
   },
   "source": [
    "## 出現頻度でソート\n",
    "- collections.Counter()で作成したオブジェクトに.most_common()をつけると出現頻度順にソートされる"
   ]
  },
  {
   "cell_type": "code",
   "execution_count": null,
   "metadata": {
    "collapsed": true,
    "scrolled": true
   },
   "outputs": [],
   "source": [
    "print(colA.most_common())   # colAに格納されている要素を出現頻度順番に出力する\n",
    "print(colA.most_common(2))   # colAに格納されている要素を上位2位の出現頻度まで出力する"
   ]
  },
  {
   "cell_type": "code",
   "execution_count": null,
   "metadata": {
    "collapsed": true
   },
   "outputs": [],
   "source": [
    "# ●ヒント\n",
    "# most_commonをつけると、リスト内に格納された要素が出現する回数順(降順)で出力することが出来る\n",
    "# ()内に数値を書くことで、出現頻度の上位を指定できる。上のcolAの場合、上位2位の出現頻度で出力している"
   ]
  },
  {
   "cell_type": "markdown",
   "metadata": {
    "slideshow": {
     "slide_type": "slide"
    }
   },
   "source": [
    "## 演習問題\n",
    "- text = \"If you can dream it, you can do it.\"にある単語とその個数を出力せよ"
   ]
  },
  {
   "cell_type": "code",
   "execution_count": null,
   "metadata": {
    "collapsed": true,
    "slideshow": {
     "slide_type": "slide"
    }
   },
   "outputs": [],
   "source": [
    "text = 'If you can dream it, you can do it.'   # textにデータを代入する\n",
    "text = text.replace('.','')   # text内の.を取り除く\n",
    "text = text.replace(',','')   # text内の,を取り除く\n",
    "text = text.split(' ')   # textを (半角スペース)で区切る\n",
    "print(text)   # textを出力する\n",
    "print(collections.Counter(text))   # textのユニークな要素と出現頻度を代入する"
   ]
  },
  {
   "cell_type": "code",
   "execution_count": null,
   "metadata": {
    "collapsed": true
   },
   "outputs": [],
   "source": [
    "# ●ヒント\n",
    "# 以下の要素に分解して考える\n",
    "# 1. textにデータを代入する\n",
    "# 2. text内の.(ピリオド)を取り除く\n",
    "# 3. text内の,(カンマ)を取り除く\n",
    "# 4. textを (半角スペース)で区切る\n",
    "# 5. textを出力する\n",
    "# 6. textのユニークな要素と出現頻度を出力する"
   ]
  },
  {
   "cell_type": "markdown",
   "metadata": {
    "slideshow": {
     "slide_type": "slide"
    }
   },
   "source": [
    "\n",
    "# collectionsのorderddictの扱い"
   ]
  },
  {
   "cell_type": "markdown",
   "metadata": {
    "slideshow": {
     "slide_type": "slide"
    }
   },
   "source": [
    "## 既存の辞書型オブジェクトを順番が保持された辞書に変換\n",
    "- OrderedDict(辞書型)で順番が保持された辞書型に変換できる"
   ]
  },
  {
   "cell_type": "code",
   "execution_count": null,
   "metadata": {
    "collapsed": true
   },
   "outputs": [],
   "source": [
    "# ●ヒント\n",
    "# Pythonでは辞書型のデータは順番をサポートしていないが、OrderedDictを使うと辞書に格納された要素の順番を保持することが出来る\n",
    "\n",
    "# ●ヒント\n",
    "# iPython Notebookでファイルを保存して、ブラウザを閉じたり、電源を落とすとメモリに保存されている全ての変数情報が削除される\n",
    "# 別の日に作業を再開して、再度、前日に定義した変数を実行するにはKernelタブ下にあるRestart & Run Allをクリックすると、\n",
    "# 上から全てのセルを実行することが可能"
   ]
  },
  {
   "cell_type": "code",
   "execution_count": null,
   "metadata": {
    "collapsed": true
   },
   "outputs": [],
   "source": [
    "print(out_dict)   # out_dictを出力する"
   ]
  },
  {
   "cell_type": "code",
   "execution_count": null,
   "metadata": {
    "collapsed": true
   },
   "outputs": [],
   "source": [
    "# 順番付き辞書型への変換\n",
    "from collections import OrderedDict   # collectionsからOrderedDictモジュールを読み込む\n",
    "out_dict = OrderedDict(out_dict)   # 順番付き辞書型に変換し、out_dictに代入する\n",
    "print(out_dict)   # out_dictを出力する"
   ]
  },
  {
   "cell_type": "code",
   "execution_count": null,
   "metadata": {
    "collapsed": true
   },
   "outputs": [],
   "source": [
    "# ●ヒント\n",
    "# 以下の要素に分解して考える\n",
    "# 1. OrderedDictモジュールを読み込む\n",
    "# 2. OrderedDictに変換する\n",
    "# 3. 変換した辞書を表示する"
   ]
  },
  {
   "cell_type": "markdown",
   "metadata": {
    "slideshow": {
     "slide_type": "slide"
    }
   },
   "source": [
    "## orderddictの定義"
   ]
  },
  {
   "cell_type": "code",
   "execution_count": null,
   "metadata": {
    "collapsed": true
   },
   "outputs": [],
   "source": [
    "# 順番付き辞書型の定義方法\n",
    "od = OrderedDict()   # odに空の順番付き辞書型を代入する\n",
    "od[\"key1\"] = 1   # odのKey1に1を代入する。実際はKey1に任意のKey、例えば'Sato'などが代入される\n",
    "od[\"key2\"] = 2   # odのKey2に2を代入する。実際はKey2に任意のKey、例えば178などが代入される\n",
    "\n",
    "print(od)   # odを出力する"
   ]
  },
  {
   "cell_type": "markdown",
   "metadata": {
    "slideshow": {
     "slide_type": "slide"
    }
   },
   "source": [
    "## 演習問題\n",
    "- 下記の3つのlistを名前の順列を保持した辞書型に変換せよ。\n",
    "\n",
    " ---\n",
    " - name_list = [\"sato\",\"tanaka\",\"takahashi\"]\n",
    " - height_list = [170,156,182]\n",
    " - weight_list = [67,54,71]\n",
    " - age_list = [54,34,49]\n",
    " \n",
    " ---\n",
    "  - out_dict = {'sato': {'身長': '170', '体重': '67', '年齢': '54'}, 'tanaka': {'身長': '156', '体重': '54', '年齢': '34'}, 'takahashi': {'身長': '182', '体重': '71', '年齢': '49'}}"
   ]
  },
  {
   "cell_type": "code",
   "execution_count": null,
   "metadata": {
    "collapsed": true,
    "slideshow": {
     "slide_type": "slide"
    }
   },
   "outputs": [],
   "source": [
    "from collections import OrderedDict   # collectionsからOrderedDictモジュールを読み込む\n",
    "\n",
    "name_list = [\"sato\",\"tanaka\",\"takahashi\"]   # name_listのリストにデータを代入する\n",
    "height_list = [170,156,182]   # height_listのリストにデータを代入する\n",
    "weight_list = [67,54,71]   # weight_listのリストにデータを代入する\n",
    "age_list = [54,34,49]   # age_listのリストにデータを代入する\n",
    "\n",
    "out_dict = OrderedDict()   # out_dictに空の順番付き辞書を代入する\n",
    "for i,n in enumerate(name_list):   # name_listの辞書の要素を数え上げる\n",
    "    info = {}   # infoに空の辞書を代入する\n",
    "    info[\"身長\"] = height_list[i]   # infoの身長にheight_listのi番目の要素を代入する\n",
    "    info[\"体重\"] = weight_list[i]   # infoの体重にweight_listのi番目の要素を代入する\n",
    "    info[\"年齢\"] = age_list[i]   # infoの年齢にage_listのi番目の要素を代入する\n",
    "    out_dict[n] = info      # out_dictのnにinfoを代入する\n",
    "    \n",
    "print(out_dict)   # out_dictを出力する"
   ]
  },
  {
   "cell_type": "code",
   "execution_count": null,
   "metadata": {
    "collapsed": true
   },
   "outputs": [],
   "source": [
    "# ●ヒント\n",
    "# 以下の要素に分解して考える\n",
    "# 1. # name_list、height_list、weight_list、age_listのリストにデータを代入する\n",
    "# 2. out_dictに空の番号付き辞書を代入する\n",
    "# 3. name_listに格納されている要素を一つずつ数え上げる\n",
    "# 4. infoに空の辞書を代入する\n",
    "# 5. infoのリストに、height_list、weight_list、age_listの要素を代入する\n",
    "# 6. out_dictのnにinfoを代入する\n",
    "# 7. out_dictを出力する"
   ]
  },
  {
   "cell_type": "markdown",
   "metadata": {},
   "source": [
    "# itertools"
   ]
  },
  {
   "cell_type": "markdown",
   "metadata": {
    "slideshow": {
     "slide_type": "slide"
    }
   },
   "source": [
    "## 組み合わせを表示\n",
    "- 順番を考慮しない組み合わせ"
   ]
  },
  {
   "cell_type": "code",
   "execution_count": 5,
   "metadata": {},
   "outputs": [
    {
     "name": "stdout",
     "output_type": "stream",
     "text": [
      "[('太郎', '花子', '二郎'), ('太郎', '花子', '櫻子'), ('太郎', '二郎', '櫻子'), ('花子', '二郎', '櫻子')]\n"
     ]
    }
   ],
   "source": [
    "import itertools   # itertoolsモジュールを読み込む\n",
    "name_list = [\"太郎\", \"花子\", \"二郎\", \"櫻子\"]   # name_listのリストにデータを代入する\n",
    "print(list(itertools.combinations(name_list, 3)))   # name_listに格納された要素から3つを取り出した組み合わせを出力する"
   ]
  },
  {
   "cell_type": "code",
   "execution_count": null,
   "metadata": {
    "collapsed": true
   },
   "outputs": [],
   "source": [
    "# ●ヒント\n",
    "# 場合の数の順番の考慮が必要ない組み合わせ(Combinations)の計算が可能\n",
    "# combinations、数学用語のCで表される\n",
    "# 上記の例では、\"太郎\",\"花子\",\"二郎\",\"櫻子\"の4人から、3人を選んだ組み合わせの数を出力する\n",
    "# 数式では4C3(4 * 3 * 2 / 3 * 2 * 1) = 4つの組み合わせが出力される"
   ]
  },
  {
   "cell_type": "markdown",
   "metadata": {
    "slideshow": {
     "slide_type": "slide"
    }
   },
   "source": [
    "## 順列を表示\n",
    "- 順番を考慮して表示"
   ]
  },
  {
   "cell_type": "code",
   "execution_count": null,
   "metadata": {
    "collapsed": true
   },
   "outputs": [],
   "source": [
    "print(list(itertools.permutations(name_list)))   # name_listの順列を出力する"
   ]
  },
  {
   "cell_type": "code",
   "execution_count": null,
   "metadata": {
    "collapsed": true
   },
   "outputs": [],
   "source": [
    "# ●ヒント\n",
    "# 場合の数の順番の考慮が必要な順列の計算が可能\n",
    "# permutations、数学用語のPで表される\n",
    "# 上記の例では、\"太郎\",\"花子\",\"二郎\",\"櫻子\"の4人を並び替えた順番の数を出力する\n",
    "# 数式では4P4 = 4! = 4 * 3 * 2 * 1 = 24通りが出力される"
   ]
  },
  {
   "cell_type": "markdown",
   "metadata": {
    "slideshow": {
     "slide_type": "slide"
    }
   },
   "source": [
    "# urllibの扱い"
   ]
  },
  {
   "cell_type": "markdown",
   "metadata": {
    "slideshow": {
     "slide_type": "slide"
    }
   },
   "source": [
    "## htmlの表示\n",
    "- urllibを使うとwebページのhtmlを取得することができる\n",
    "- headerにはユーザーエージェントを記述するのが一般的"
   ]
  },
  {
   "cell_type": "code",
   "execution_count": null,
   "metadata": {
    "collapsed": true
   },
   "outputs": [],
   "source": [
    "import urllib.request   # urllibモジュールを読み込む\n",
    "url = \"https://to-kei.net\"   # https://to-kei.netをスクレイピング対象にする\n",
    "headers = {\"User-Agent\" : \"Example Company, example@example.com\"}   # スクレイピングを行うクローラーの属性を伝える\n",
    "# 対象のコンテキストマネージャを実際にリクエストしている部分\n",
    "re = urllib.request.Request(url, None, headers)\n",
    "html = urllib.request.urlopen(re) \n",
    "print(html.read().decode(\"utf-8\"))"
   ]
  },
  {
   "cell_type": "code",
   "execution_count": null,
   "metadata": {
    "collapsed": true
   },
   "outputs": [],
   "source": [
    "# ■注意\n",
    "# ウェブサイト・スクレイピングは便利な技術ではあるが、法律上グレーである点に注意\n",
    "# スクレイピング禁止を明示しているウェブページに対して、スクレイピングを行うことは法律違反にあたる\n",
    "# 実施に当たっては、当該ウェブページがスクレイピング禁止が明示されていないかを確認する必要有\n",
    "# スクレイピングは、クローラーのログが残るため、頻繫にスクレイピングすると、対象ウェブサイトから締め出され、アクセスできなくなることも有\n",
    "\n",
    "# ●ヒント\n",
    "# urlではスクレイピングを行う対象となるページを指定する\n",
    "# headersでは、スクレイピングするウェブサイトに対して、クローラー属性を伝える\n",
    "# スクレイピングを行う際は、クローラー属性を伝えることがマナーとされている"
   ]
  },
  {
   "cell_type": "markdown",
   "metadata": {
    "slideshow": {
     "slide_type": "slide"
    }
   },
   "source": [
    "## urllibを使った演習問題\n",
    "- 任意のWebサイトにurllibを使ってアクセスし、そのページのhtmlをtest.htmlとして保存せよ。"
   ]
  },
  {
   "cell_type": "code",
   "execution_count": null,
   "metadata": {
    "collapsed": true
   },
   "outputs": [],
   "source": []
  },
  {
   "cell_type": "markdown",
   "metadata": {
    "slideshow": {
     "slide_type": "slide"
    }
   },
   "source": [
    "# 宿題\n",
    "##  宿題1\n",
    "\n",
    "- akiba_men.txtを適切なjson形式にして書き出すプログラムを作成せよ。"
   ]
  },
  {
   "cell_type": "code",
   "execution_count": 1,
   "metadata": {},
   "outputs": [
    {
     "data": {
      "text/plain": [
       "['店名:麺処 MAZERU(マゼル)\\t 住所:東京都千代田区神田佐久間町1-14 第2東ビル 1F\\t 電話番号:0',\n",
       " '店名:福の軒 秋葉原店\\t 住所:東京都千代田区神田佐久間町1-19\\t 電話番号:0332565605',\n",
       " '店名:麺屋武蔵 武仁\\t 住所:東京都千代田区神田佐久間町2-18-5\\t 電話番号:0358224634',\n",
       " '店名:麺屋武蔵 巌虎\\t 住所:東京都千代田区外神田1-3-9\\t 電話番号:0332560634',\n",
       " '店名:麺屋はるか\\t 住所:東京都千代田区外神田3-13-7 田中無線電機ビルB1F\\t 電話番号:0',\n",
       " '店名:青島食堂秋葉原店\\t 住所:東京都千代田区神田佐久間町3-20-1\\t 電話番号:0358200037',\n",
       " '店名:饗 くろき（モテナシクロキ）\\t 住所:東京都千代田区神田和泉町2-15\\t 電話番号:0338637117',\n",
       " '店名:田中そば店 秋葉原店\\t 住所:東京都千代田区外神田3-8-3 第1針谷ビル 1F\\t 電話番号:0332563556']"
      ]
     },
     "execution_count": 1,
     "metadata": {},
     "output_type": "execute_result"
    }
   ],
   "source": [
    "# akiba_men.txtの読み込み\n",
    "with open (\"akiba_men.txt\", encoding = 'utf-8') as f:   # akiba_men.txtをutd-8の文字コードで開き、fに代入する\n",
    "    txt = f.read().split(\"\\n\")       # fを読み込み、txtに代入する\n",
    "txt   # txtを出力する"
   ]
  },
  {
   "cell_type": "code",
   "execution_count": 2,
   "metadata": {},
   "outputs": [
    {
     "name": "stdout",
     "output_type": "stream",
     "text": [
      "{'麺処 MAZERU(マゼル)': {'住所': ':東京都千代田区神田佐久間町1-14 第2東ビル 1F', '電話番号': ':0'}, '福の軒 秋葉原店': {'住所': ':東京都千代田区神田佐久間町1-19', '電話番号': ':0332565605'}, '麺屋武蔵 武仁': {'住所': ':東京都千代田区神田佐久間町2-18-5', '電話番号': ':0358224634'}, '麺屋武蔵 巌虎': {'住所': ':東京都千代田区外神田1-3-9', '電話番号': ':0332560634'}, '麺屋はるか': {'住所': ':東京都千代田区外神田3-13-7 田中無線電機ビルB1F', '電話番号': ':0'}, '青島食堂秋葉原店': {'住所': ':東京都千代田区神田佐久間町3-20-1', '電話番号': ':0358200037'}, '饗 くろき（モテナシクロキ）': {'住所': ':東京都千代田区神田和泉町2-15', '電話番号': ':0338637117'}, '田中そば店 秋葉原店': {'住所': ':東京都千代田区外神田3-8-3 第1針谷ビル 1F', '電話番号': ':0332563556'}}\n"
     ]
    }
   ],
   "source": [
    "out_dict = {}   # out_dictの空の辞書を用意する\n",
    "for t in txt:   # txtに格納された要素に対して\n",
    "    dict_ = {}   # dict_に空の辞書を代入する\n",
    "    name  = t.split(\"\\t\")[0][3:]   # 0番目のリストの3文字目以降を分割してnameに代入する\n",
    "    dict_[\"住所\"] = t.split(\"\\t\")[1][3:]   # 1番目のリストの3文字目以降を分割して、dict_の住所として代入する\n",
    "    dict_[\"電話番号\"] = t.split(\"\\t\")[2][5:]   # 辞書内の2番目のリストの5文字目以降を分割して、dict_の電話番号に代入する\n",
    "    out_dict[name] = dict_   # out_dictのnameにdict_を代入する\n",
    "print(out_dict)   # out_dictを出力する"
   ]
  },
  {
   "cell_type": "code",
   "execution_count": 3,
   "metadata": {
    "collapsed": true
   },
   "outputs": [],
   "source": [
    "import json   # jsonをインポートする\n",
    "fn = \"ramen.json\"   # ramen.jsonをfnに代入する\n",
    "with open(fn, \"w\", encoding = \"utf-8\") as f:   # fnを書き込みモードでutf-8文字コードでfとして代入する\n",
    "    json.dump(out_dict, f)   # out_dictとfをjson形式で出力する"
   ]
  },
  {
   "cell_type": "code",
   "execution_count": 4,
   "metadata": {},
   "outputs": [
    {
     "name": "stdout",
     "output_type": "stream",
     "text": [
      "{'麺処 MAZERU(マゼル)': {'住所': ':東京都千代田区神田佐久間町1-14 第2東ビル 1F', '電話番号': ':0'}, '福の軒 秋葉原店': {'住所': ':東京都千代田区神田佐久間町1-19', '電話番号': ':0332565605'}, '麺屋武蔵 武仁': {'住所': ':東京都千代田区神田佐久間町2-18-5', '電話番号': ':0358224634'}, '麺屋武蔵 巌虎': {'住所': ':東京都千代田区外神田1-3-9', '電話番号': ':0332560634'}, '麺屋はるか': {'住所': ':東京都千代田区外神田3-13-7 田中無線電機ビルB1F', '電話番号': ':0'}, '青島食堂秋葉原店': {'住所': ':東京都千代田区神田佐久間町3-20-1', '電話番号': ':0358200037'}, '饗 くろき（モテナシクロキ）': {'住所': ':東京都千代田区神田和泉町2-15', '電話番号': ':0338637117'}, '田中そば店 秋葉原店': {'住所': ':東京都千代田区外神田3-8-3 第1針谷ビル 1F', '電話番号': ':0332563556'}}\n"
     ]
    }
   ],
   "source": [
    "# 正しく出力されているかどうか確認\n",
    "with open(fn,\"r\",encoding=\"utf-8\") as f:   # fnを読み取りモード(文字コードutf-8)で開き、fに代入する\n",
    "    d = json.load(f)   # fを読み込みdに代入する\n",
    "print(d)   # dを出力する"
   ]
  },
  {
   "cell_type": "markdown",
   "metadata": {
    "slideshow": {
     "slide_type": "slide"
    }
   },
   "source": [
    "## 宿題2\n",
    "url_listの各ページにアクセスし、テーマごとにディレクトリを作成し、その中に[タイトル.html]としてhtmlを保存せよ"
   ]
  },
  {
   "cell_type": "code",
   "execution_count": null,
   "metadata": {
    "collapsed": true
   },
   "outputs": [],
   "source": [
    "url_list = [\"https://to-kei.net/basic/history/\",\n",
    "            \"https://to-kei.net/python/data-analysis/pandas-read_csv/\",\n",
    "            \"https://to-kei.net/basic/bayesian-statistics/\"\n",
    "            \"https://to-kei.net/python/data-analysis/what-is-numpy/\"]\n",
    "ttl_list = [\"stats-history\",\"pandas\",\"baysian\",\"numpy\"]\n",
    "theme_list = [\"stats\",\"python\",\"stats\",\"python\"]"
   ]
  },
  {
   "cell_type": "code",
   "execution_count": 6,
   "metadata": {},
   "outputs": [
    {
     "ename": "NameError",
     "evalue": "name 'theme_list' is not defined",
     "output_type": "error",
     "traceback": [
      "\u001b[1;31m---------------------------------------------------------------------------\u001b[0m",
      "\u001b[1;31mNameError\u001b[0m                                 Traceback (most recent call last)",
      "\u001b[1;32m<ipython-input-6-72e211f27684>\u001b[0m in \u001b[0;36m<module>\u001b[1;34m()\u001b[0m\n\u001b[0;32m      1\u001b[0m \u001b[1;31m#　htmlファイルを保存するディレクトリを作成する\u001b[0m\u001b[1;33m\u001b[0m\u001b[1;33m\u001b[0m\u001b[0m\n\u001b[1;32m----> 2\u001b[1;33m \u001b[0mdirc\u001b[0m \u001b[1;33m=\u001b[0m \u001b[0mlist\u001b[0m\u001b[1;33m(\u001b[0m\u001b[0mset\u001b[0m\u001b[1;33m(\u001b[0m\u001b[0mtheme_list\u001b[0m\u001b[1;33m)\u001b[0m\u001b[1;33m)\u001b[0m   \u001b[1;31m# theme_listをセット化して、dircに代入する\u001b[0m\u001b[1;33m\u001b[0m\u001b[0m\n\u001b[0m\u001b[0;32m      3\u001b[0m \u001b[1;32mfor\u001b[0m \u001b[0md\u001b[0m \u001b[1;32min\u001b[0m \u001b[0mdirc\u001b[0m\u001b[1;33m:\u001b[0m   \u001b[1;31m# dircに格納された要素を対象に\u001b[0m\u001b[1;33m\u001b[0m\u001b[0m\n\u001b[0;32m      4\u001b[0m     \u001b[0mos\u001b[0m\u001b[1;33m.\u001b[0m\u001b[0mmkdir\u001b[0m\u001b[1;33m(\u001b[0m\u001b[0md\u001b[0m\u001b[1;33m)\u001b[0m   \u001b[1;31m# ディレクトリを作る\u001b[0m\u001b[1;33m\u001b[0m\u001b[0m\n\u001b[0;32m      5\u001b[0m \u001b[0mprint\u001b[0m\u001b[1;33m(\u001b[0m\u001b[0mos\u001b[0m\u001b[1;33m.\u001b[0m\u001b[0mlistdir\u001b[0m\u001b[1;33m(\u001b[0m\u001b[1;33m)\u001b[0m\u001b[1;33m)\u001b[0m   \u001b[1;31m# ディレクトリ一覧を出力する\u001b[0m\u001b[1;33m\u001b[0m\u001b[0m\n",
      "\u001b[1;31mNameError\u001b[0m: name 'theme_list' is not defined"
     ]
    }
   ],
   "source": [
    "#　htmlファイルを保存するディレクトリを作成する\n",
    "dirc = list(set(theme_list))   # theme_listをセット化して、dircに代入する\n",
    "for d in dirc:   # dircに格納された要素を対象に\n",
    "    os.mkdir(d)   # ディレクトリを作る\n",
    "print(os.listdir())   # ディレクトリ一覧を出力する"
   ]
  },
  {
   "cell_type": "code",
   "execution_count": null,
   "metadata": {
    "collapsed": true
   },
   "outputs": [],
   "source": [
    "import os   # osをインポートする\n",
    "import urllib.request   # urllibモジュールを読み込む\n",
    "\n",
    "for i,u in enumerate(url_list):\n",
    "    headers = {\"User-Agent\" : \"Example Company, example@example.com\"}\n",
    "    re = urllib.request.Request(u, None, headers)\n",
    "    html = urllib.request.urlopen(re)\n",
    "    h_txt = html.read().decode(\"utf-8\")\n",
    "    fn = ttl_list[i] + \".html\"   # ファイル名を定義\n",
    "    fp = os.path.join(theme_list[i],fn)   # os.path.joinを用いて保存するファイルのパスを作成\n",
    "    with open(fp,\"w\",encoding =\"utf-8\") as f:   # ファイルの書き出し\n",
    "        f.write(h_txt)"
   ]
  }
 ],
 "metadata": {
  "celltoolbar": "Slideshow",
  "kernelspec": {
   "display_name": "Python 3",
   "language": "python",
   "name": "python3"
  },
  "language_info": {
   "codemirror_mode": {
    "name": "ipython",
    "version": 3
   },
   "file_extension": ".py",
   "mimetype": "text/x-python",
   "name": "python",
   "nbconvert_exporter": "python",
   "pygments_lexer": "ipython3",
   "version": "3.6.2"
  },
  "toc": {
   "base_numbering": 1,
   "nav_menu": {},
   "number_sections": true,
   "sideBar": true,
   "skip_h1_title": false,
   "title_cell": "Table of Contents",
   "title_sidebar": "Contents",
   "toc_cell": false,
   "toc_position": {
    "height": "calc(100% - 180px)",
    "left": "10px",
    "top": "150px",
    "width": "512px"
   },
   "toc_section_display": true,
   "toc_window_display": true
  }
 },
 "nbformat": 4,
 "nbformat_minor": 2
}
