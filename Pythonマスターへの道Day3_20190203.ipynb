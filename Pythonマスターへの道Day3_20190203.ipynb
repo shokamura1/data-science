{
 "cells": [
  {
   "cell_type": "markdown",
   "metadata": {
    "slideshow": {
     "slide_type": "slide"
    }
   },
   "source": [
    "# 前回の宿題\n",
    "##  宿題1\n",
    "\n",
    "- akiba_men.txtを適切なjson形式にして書き出すプログラムを作成せよ。"
   ]
  },
  {
   "cell_type": "code",
   "execution_count": 1,
   "metadata": {
    "slideshow": {
     "slide_type": "slide"
    }
   },
   "outputs": [
    {
     "data": {
      "text/plain": [
       "['店名:麺処 MAZERU(マゼル)\\t 住所:東京都千代田区神田佐久間町1-14 第2東ビル 1F\\t 電話番号:0',\n",
       " '店名:福の軒 秋葉原店\\t 住所:東京都千代田区神田佐久間町1-19\\t 電話番号:0332565605',\n",
       " '店名:麺屋武蔵 武仁\\t 住所:東京都千代田区神田佐久間町2-18-5\\t 電話番号:0358224634',\n",
       " '店名:麺屋武蔵 巌虎\\t 住所:東京都千代田区外神田1-3-9\\t 電話番号:0332560634',\n",
       " '店名:麺屋はるか\\t 住所:東京都千代田区外神田3-13-7 田中無線電機ビルB1F\\t 電話番号:0',\n",
       " '店名:青島食堂秋葉原店\\t 住所:東京都千代田区神田佐久間町3-20-1\\t 電話番号:0358200037',\n",
       " '店名:饗 くろき（モテナシクロキ）\\t 住所:東京都千代田区神田和泉町2-15\\t 電話番号:0338637117',\n",
       " '店名:田中そば店 秋葉原店\\t 住所:東京都千代田区外神田3-8-3 第1針谷ビル 1F\\t 電話番号:0332563556']"
      ]
     },
     "execution_count": 1,
     "metadata": {},
     "output_type": "execute_result"
    }
   ],
   "source": [
    "# akiba_men.txtの読み込み\n",
    "with open (\"akiba_men.txt\", encoding = 'utf-8') as f:   # akiba_men.txtをutd-8の文字コードで開き、fに代入する\n",
    "    txt = f.read().split(\"\\n\")       # fを読み込み、txtに代入する\n",
    "txt   # txtを出力する"
   ]
  },
  {
   "cell_type": "code",
   "execution_count": 100,
   "metadata": {
    "slideshow": {
     "slide_type": "-"
    }
   },
   "outputs": [
    {
     "name": "stdout",
     "output_type": "stream",
     "text": [
      "{'麺処 MAZERU(マゼル)': {'住所': ':東京都千代田区神田佐久間町1-14 第2東ビル 1F', '電話番号': ':0'}, '福の軒 秋葉原店': {'住所': ':東京都千代田区神田佐久間町1-19', '電話番号': ':0332565605'}, '麺屋武蔵 武仁': {'住所': ':東京都千代田区神田佐久間町2-18-5', '電話番号': ':0358224634'}, '麺屋武蔵 巌虎': {'住所': ':東京都千代田区外神田1-3-9', '電話番号': ':0332560634'}, '麺屋はるか': {'住所': ':東京都千代田区外神田3-13-7 田中無線電機ビルB1F', '電話番号': ':0'}, '青島食堂秋葉原店': {'住所': ':東京都千代田区神田佐久間町3-20-1', '電話番号': ':0358200037'}, '饗 くろき（モテナシクロキ）': {'住所': ':東京都千代田区神田和泉町2-15', '電話番号': ':0338637117'}, '田中そば店 秋葉原店': {'住所': ':東京都千代田区外神田3-8-3 第1針谷ビル 1F', '電話番号': ':0332563556'}}\n"
     ]
    }
   ],
   "source": [
    "out_dict = {}   # out_dictの空の辞書を用意する\n",
    "for t in txt:   # txtに格納された要素に対して\n",
    "    dict_ = {}   # dict_に空の辞書を代入する\n",
    "    name  = t.split(\"\\t\")[0][3:]   # 0番目のリストの3文字目以降を分割してnameに代入する\n",
    "    dict_[\"住所\"] = t.split(\"\\t\")[1][3:]   # 1番目のリストの3文字目以降を分割して、dict_の住所として代入する\n",
    "    dict_[\"電話番号\"] = t.split(\"\\t\")[2][5:]   # 辞書内の2番目のリストの5文字目以降を分割して、dict_の電話番号に代入する\n",
    "    out_dict[name] = dict_   # out_dictのnameにdict_を代入する\n",
    "print(out_dict)   # out_dictを出力する"
   ]
  },
  {
   "cell_type": "code",
   "execution_count": 3,
   "metadata": {
    "collapsed": true,
    "slideshow": {
     "slide_type": "slide"
    }
   },
   "outputs": [],
   "source": [
    "import json   # jsonをインポートする\n",
    "fn = \"ramen.json\"   # ramen.jsonをfnに代入する\n",
    "with open(fn, \"w\", encoding = \"utf-8\") as f:   # fnを書き込みモードでutf-8文字コードでfとして代入する\n",
    "    json.dump(out_dict, f)   # out_dictとfをjson形式で出力する"
   ]
  },
  {
   "cell_type": "code",
   "execution_count": 4,
   "metadata": {},
   "outputs": [
    {
     "name": "stdout",
     "output_type": "stream",
     "text": [
      "{'麺処 MAZERU(マゼル)': {'住所': ':東京都千代田区神田佐久間町1-14 第2東ビル 1F', '電話番号': ':0'}, '福の軒 秋葉原店': {'住所': ':東京都千代田区神田佐久間町1-19', '電話番号': ':0332565605'}, '麺屋武蔵 武仁': {'住所': ':東京都千代田区神田佐久間町2-18-5', '電話番号': ':0358224634'}, '麺屋武蔵 巌虎': {'住所': ':東京都千代田区外神田1-3-9', '電話番号': ':0332560634'}, '麺屋はるか': {'住所': ':東京都千代田区外神田3-13-7 田中無線電機ビルB1F', '電話番号': ':0'}, '青島食堂秋葉原店': {'住所': ':東京都千代田区神田佐久間町3-20-1', '電話番号': ':0358200037'}, '饗 くろき（モテナシクロキ）': {'住所': ':東京都千代田区神田和泉町2-15', '電話番号': ':0338637117'}, '田中そば店 秋葉原店': {'住所': ':東京都千代田区外神田3-8-3 第1針谷ビル 1F', '電話番号': ':0332563556'}}\n"
     ]
    }
   ],
   "source": [
    "# 正しく出力されているかどうか確認\n",
    "with open(fn,\"r\",encoding=\"utf-8\") as f:   # fnを読み取りモード(文字コードutf-8)で開き、fに代入する\n",
    "    d = json.load(f)   # fを読み込みdに代入する\n",
    "print(d)   # dを出力する"
   ]
  },
  {
   "cell_type": "markdown",
   "metadata": {
    "slideshow": {
     "slide_type": "slide"
    }
   },
   "source": [
    "## 宿題2\n",
    "url_listの各ページにアクセスし、テーマごとにディレクトリを作成し、その中に[タイトル.html]としてhtmlを保存せよ"
   ]
  },
  {
   "cell_type": "code",
   "execution_count": 102,
   "metadata": {
    "collapsed": true
   },
   "outputs": [],
   "source": [
    "url_list = [\"https://to-kei.net/basic/history/\",\n",
    "            \"https://to-kei.net/python/data-analysis/pandas-read_csv/\",\n",
    "            \"https://to-kei.net/basic/bayesian-statistics/\",\n",
    "            \"https://to-kei.net/python/data-analysis/what-is-numpy/\"]\n",
    "ttl_list = [\"stats-history\",\"pandas\",\"baysian\",\"numpy\"]\n",
    "theme_list = [\"stats\",\"python\",\"stats\",\"python\"]"
   ]
  },
  {
   "cell_type": "code",
   "execution_count": 12,
   "metadata": {
    "slideshow": {
     "slide_type": "slide"
    }
   },
   "outputs": [
    {
     "name": "stdout",
     "output_type": "stream",
     "text": [
      "['.ipynb_checkpoints', 'akiba_men.txt', 'array.txt', 'img.png', 'numpy.png', 'numpy_ax.png', 'pymaster3.ipynb', 'pymaster3_ans.ipynb', 'python', 'ramen.csv', 'ramen.json', 'rgb.png', 'rgb1.png', 'sample.csv', 'stats']\n"
     ]
    }
   ],
   "source": [
    "#　htmlファイルを保存するディレクトリを作成する\n",
    "dirc = list(set(theme_list))   # theme_listをセット化して、dircに代入する\n",
    "for d in dirc:   # dircに格納された要素を対象に\n",
    "    os.mkdir(d)   # ディレクトリを作る\n",
    "print(os.listdir())"
   ]
  },
  {
   "cell_type": "code",
   "execution_count": 104,
   "metadata": {
    "collapsed": true
   },
   "outputs": [],
   "source": [
    "import os   # osをインポートする\n",
    "import urllib.request   # urllibモジュールを読み込む\n",
    "\n",
    "for i,u in enumerate(url_list):\n",
    "    headers = {\"User-Agent\" : \"Example Company, example@example.com\"}\n",
    "    re = urllib.request.Request(u, None, headers)\n",
    "    html = urllib.request.urlopen(re)\n",
    "    h_txt = html.read().decode(\"utf-8\")\n",
    "    fn = ttl_list[i] + \".html\"   # ファイル名を定義\n",
    "    fp = os.path.join(theme_list[i],fn)   # os.path.joinを用いて保存するファイルのパスを作成\n",
    "    with open(fp,\"w\",encoding =\"utf-8\") as f:   # ファイルの書き出し\n",
    "        f.write(h_txt)"
   ]
  },
  {
   "cell_type": "markdown",
   "metadata": {
    "slideshow": {
     "slide_type": "slide"
    }
   },
   "source": [
    "# 本講座で使用するライブラリのインポート"
   ]
  },
  {
   "cell_type": "code",
   "execution_count": 10,
   "metadata": {
    "collapsed": true
   },
   "outputs": [],
   "source": [
    "# ライブラリーのインポート\n",
    "import numpy as np   # numpyモジュールをインポートして、npとする\n",
    "from PIL import Image   # PILからimgaeモジュールをインポートする\n",
    "from matplotlib import pylab as plt   # matplotlibからpylabモジュールをインポートして、pltとする\n",
    "import pandas as pd   # pandasモジュールをインポートして、pdとする"
   ]
  },
  {
   "cell_type": "code",
   "execution_count": null,
   "metadata": {
    "collapsed": true
   },
   "outputs": [],
   "source": [
    "# ●ヒント\n",
    "# Pythonでコーディングする際は、ライブラリをインポートする\n",
    "# 作業の後から必要になった場合は、セルにまとめて書く\n",
    "\n",
    "# ・各ライブラリの略説\n",
    "# numpyはC++で書かれているモジュールで高速計算が可能\n",
    "# PILは画像ファイルを扱う際に使われ、PDFファイル生成に役立つ\n",
    "# PILのパッケージの中から、Imageという個別機能だけをインポートしている為、fromを書いている\n",
    "# matplotlibはグラフ描画が出来るライブラリ\n",
    "# matplotlibのパッケージの中から、pylabという個別機能だけをインポートしている為、fromを書いている\n",
    "# pandasはデータフレームとしてCSVファイルなどをSQLのように操作する際に役立つ"
   ]
  },
  {
   "cell_type": "markdown",
   "metadata": {},
   "source": [
    "## インストールされていないライブラリのインストール\n",
    "- 「！pip install インストールしたいライブラリ名」でライブラリのインストールができる"
   ]
  },
  {
   "cell_type": "code",
   "execution_count": null,
   "metadata": {
    "collapsed": true
   },
   "outputs": [],
   "source": [
    "!pip install pillow   # pillowライブラリをインストールする"
   ]
  },
  {
   "cell_type": "markdown",
   "metadata": {
    "slideshow": {
     "slide_type": "slide"
    }
   },
   "source": [
    "# numpy"
   ]
  },
  {
   "cell_type": "markdown",
   "metadata": {
    "slideshow": {
     "slide_type": "slide"
    }
   },
   "source": [
    "## 配列の作成\n",
    "### 1次元の配列を作成\n",
    "- np.array(リスト)でnumpy配列に変形できる"
   ]
  },
  {
   "cell_type": "code",
   "execution_count": 13,
   "metadata": {},
   "outputs": [
    {
     "name": "stdout",
     "output_type": "stream",
     "text": [
      "[4 8 3]\n"
     ]
    }
   ],
   "source": [
    "arr1 = np.array([4,8,3])   # リストでnumpy配列に変形し、arr1に代入する\n",
    "print(arr1)   # arr1を出力する"
   ]
  },
  {
   "cell_type": "code",
   "execution_count": null,
   "metadata": {
    "collapsed": true
   },
   "outputs": [],
   "source": [
    "# ●ヒント\n",
    "# .array関数\n",
    "# .array関数を使うと、リスト型データをnumpy配列に変換することが出来る\n",
    "# numpy配列では、行と列の2次元データだけでなく、層、行、列の3次元データを扱うことが出来る"
   ]
  },
  {
   "cell_type": "markdown",
   "metadata": {
    "slideshow": {
     "slide_type": "slide"
    }
   },
   "source": [
    "### 2次元の配列の作成"
   ]
  },
  {
   "cell_type": "code",
   "execution_count": 14,
   "metadata": {},
   "outputs": [
    {
     "name": "stdout",
     "output_type": "stream",
     "text": [
      "[[11 42 31]\n",
      " [46 51 60]]\n"
     ]
    }
   ],
   "source": [
    "arr2 = np.array([[11, 42, 31], [46, 51, 60]])   # 2つのリストをnumpy配列に変形し、arr2に代入する\n",
    "print(arr2)   # arr2を出力する"
   ]
  },
  {
   "cell_type": "markdown",
   "metadata": {
    "slideshow": {
     "slide_type": "slide"
    }
   },
   "source": [
    "### ３次元の配列の作成\n",
    "<img src=\"numpy.png\">"
   ]
  },
  {
   "cell_type": "code",
   "execution_count": 15,
   "metadata": {},
   "outputs": [
    {
     "name": "stdout",
     "output_type": "stream",
     "text": [
      "[[[ 1  2  3]\n",
      "  [ 4  5  6]]\n",
      "\n",
      " [[ 7  8  9]\n",
      "  [10 11 12]]\n",
      "\n",
      " [[13 14 15]\n",
      "  [16 17 18]]\n",
      "\n",
      " [[19 20 21]\n",
      "  [22 23 24]]]\n"
     ]
    }
   ],
   "source": [
    "arr3 = np.array([[[1, 2, 3], [4, 5, 6]],    # 1層目\n",
    "                              [[7, 8, 9], [10, 11, 12]],   # 2層目\n",
    "                              [[13, 14, 15], [16, 17, 18]],   # 3層目\n",
    "                              [[19, 20, 21], [22, 23, 24]]])   # 4層目\n",
    "# 8つのリストをnumpy配列に変形し、arr3に代入する\n",
    "print(arr3)   # arr3を出力する"
   ]
  },
  {
   "cell_type": "code",
   "execution_count": 16,
   "metadata": {
    "collapsed": true
   },
   "outputs": [],
   "source": [
    "# ●ヒント\n",
    "# np.array([[[1, 2, 3], [4, 5, 6]])の[[]](二重括弧)で囲まれているの層になる\n",
    "# つまり、上の例だと以下のようなデータ構造になる\n",
    "# 1層目：[[1, 2, 3], [4, 5, 6]]\n",
    "# 2層目：[[7, 8, 9], [4, 5, 6]]\n",
    "# 3層目：[[13, 14, 15], [16, 17, 18]]\n",
    "# 4層目：[[19, 20, 21], [22, 23, 24]]\n",
    "\n",
    "# ・画像データの扱い\n",
    "# 画像は3次元配列で構成されている\n",
    "# 色は、赤、青、緑の3つの色で構成されているが、画像は2次元に見えても、3次元で構成されており、1層目は赤、2層目は緑、3層目は青で構成されている"
   ]
  },
  {
   "cell_type": "markdown",
   "metadata": {
    "slideshow": {
     "slide_type": "slide"
    }
   },
   "source": [
    "## 配列の次元の確認"
   ]
  },
  {
   "cell_type": "code",
   "execution_count": 17,
   "metadata": {},
   "outputs": [
    {
     "data": {
      "text/plain": [
       "(4, 2, 3)"
      ]
     },
     "execution_count": 17,
     "metadata": {},
     "output_type": "execute_result"
    }
   ],
   "source": [
    "# データの次元数と形状確認\n",
    "np.array(arr3).shape   # arr3の次元を出力する"
   ]
  },
  {
   "cell_type": "code",
   "execution_count": 18,
   "metadata": {
    "collapsed": true
   },
   "outputs": [],
   "source": [
    "# ●ヒント\n",
    "# .shape関数\n",
    "# 結果は層、行、列の順番で返される\n",
    "# つまり、arr3の場合、4層、2行、3列の次元であることが分かる"
   ]
  },
  {
   "cell_type": "markdown",
   "metadata": {
    "slideshow": {
     "slide_type": "slide"
    }
   },
   "source": [
    "## 配列の平均や合計"
   ]
  },
  {
   "cell_type": "markdown",
   "metadata": {},
   "source": [
    "### 要素全ての合計\n"
   ]
  },
  {
   "cell_type": "code",
   "execution_count": 19,
   "metadata": {},
   "outputs": [
    {
     "data": {
      "text/plain": [
       "300"
      ]
     },
     "execution_count": 19,
     "metadata": {},
     "output_type": "execute_result"
    }
   ],
   "source": [
    "arr3.sum()   # arr3の合計値を出力する"
   ]
  },
  {
   "cell_type": "code",
   "execution_count": 20,
   "metadata": {
    "collapsed": true
   },
   "outputs": [],
   "source": [
    "# ●ヒント\n",
    "# 要素全ての合計では、層、行、列に格納された全てのデータを合計した値が返る"
   ]
  },
  {
   "cell_type": "markdown",
   "metadata": {},
   "source": [
    "### 要素全ての平均"
   ]
  },
  {
   "cell_type": "code",
   "execution_count": 21,
   "metadata": {},
   "outputs": [
    {
     "data": {
      "text/plain": [
       "12.5"
      ]
     },
     "execution_count": 21,
     "metadata": {},
     "output_type": "execute_result"
    }
   ],
   "source": [
    "arr3.mean()   # arr3の平均値を出力する"
   ]
  },
  {
   "cell_type": "code",
   "execution_count": 22,
   "metadata": {
    "collapsed": true
   },
   "outputs": [],
   "source": [
    "# ●ヒント\n",
    "# 要素全ての平均では、層、行、列に格納された全てのデータの平均値が返る\n",
    "# Print関数が無くても計算可能"
   ]
  },
  {
   "cell_type": "markdown",
   "metadata": {
    "slideshow": {
     "slide_type": "slide"
    }
   },
   "source": [
    "### \"軸\"を用いた要素の合計"
   ]
  },
  {
   "cell_type": "markdown",
   "metadata": {},
   "source": [
    "<img src=\"numpy_ax.png\">"
   ]
  },
  {
   "cell_type": "code",
   "execution_count": 23,
   "metadata": {
    "collapsed": true
   },
   "outputs": [],
   "source": [
    "# ●ヒント\n",
    "# 軸を用いた要素計算では、3次元の層、行、列の3方向で計算が可能になる\n",
    "# 軸を指定するには、axis引数で層、行、列のいずれかを指定する\n",
    "\n",
    "# axis = 0　3次元の層を指定する\n",
    "# axis = 1　3次元の行を指定する\n",
    "# axis = 2　3次元の列を指定する"
   ]
  },
  {
   "cell_type": "code",
   "execution_count": 25,
   "metadata": {
    "scrolled": true
   },
   "outputs": [
    {
     "name": "stdout",
     "output_type": "stream",
     "text": [
      "[[40 44 48]\n",
      " [52 56 60]]\n",
      "(2, 3)\n"
     ]
    }
   ],
   "source": [
    "# ・「層」軸の合計\n",
    "print(arr3.sum(axis = 0))   # arr3を層方向の合計を出力する\n",
    "print(arr3.sum(axis = 0).shape)   # arr3の次元(層)を出力する"
   ]
  },
  {
   "cell_type": "code",
   "execution_count": 26,
   "metadata": {},
   "outputs": [
    {
     "name": "stdout",
     "output_type": "stream",
     "text": [
      "[[ 5  7  9]\n",
      " [17 19 21]\n",
      " [29 31 33]\n",
      " [41 43 45]]\n",
      "(4, 3)\n"
     ]
    }
   ],
   "source": [
    "# ・「行」軸の合計\n",
    "print(arr3.sum(axis = 1))   # arr3を行方向の合計を出力する\n",
    "print(arr3.sum(axis = 1).shape)   # arr3の次元(行)を出力する"
   ]
  },
  {
   "cell_type": "code",
   "execution_count": 27,
   "metadata": {},
   "outputs": [
    {
     "name": "stdout",
     "output_type": "stream",
     "text": [
      "[[ 6 15]\n",
      " [24 33]\n",
      " [42 51]\n",
      " [60 69]]\n",
      "(4, 2)\n"
     ]
    }
   ],
   "source": [
    "# ・「列」軸の合計\n",
    "print(arr3.sum(axis = 2))   # arr3を列方向の合計を出力する\n",
    "print(arr3.sum(axis = 2).shape)   # arr3の次元(列)を出力する"
   ]
  },
  {
   "cell_type": "markdown",
   "metadata": {
    "slideshow": {
     "slide_type": "slide"
    }
   },
   "source": [
    "###  \"軸\"を用いた要素の平均"
   ]
  },
  {
   "cell_type": "code",
   "execution_count": 28,
   "metadata": {},
   "outputs": [
    {
     "data": {
      "text/plain": [
       "array([[ 10.,  11.,  12.],\n",
       "       [ 13.,  14.,  15.]])"
      ]
     },
     "execution_count": 28,
     "metadata": {},
     "output_type": "execute_result"
    }
   ],
   "source": [
    "# ・「層」軸の平均\n",
    "arr3.mean(axis = 0)   # arr3の層方向の平均を出力する"
   ]
  },
  {
   "cell_type": "code",
   "execution_count": 29,
   "metadata": {},
   "outputs": [
    {
     "data": {
      "text/plain": [
       "array([[  2.5,   3.5,   4.5],\n",
       "       [  8.5,   9.5,  10.5],\n",
       "       [ 14.5,  15.5,  16.5],\n",
       "       [ 20.5,  21.5,  22.5]])"
      ]
     },
     "execution_count": 29,
     "metadata": {},
     "output_type": "execute_result"
    }
   ],
   "source": [
    "# ・「行」軸の平均\n",
    "arr3.mean(axis = 1)   # arr3の行方向の平均を出力する"
   ]
  },
  {
   "cell_type": "code",
   "execution_count": 30,
   "metadata": {},
   "outputs": [
    {
     "data": {
      "text/plain": [
       "array([[  2.,   5.],\n",
       "       [  8.,  11.],\n",
       "       [ 14.,  17.],\n",
       "       [ 20.,  23.]])"
      ]
     },
     "execution_count": 30,
     "metadata": {},
     "output_type": "execute_result"
    }
   ],
   "source": [
    "# ・「列」軸の合計\n",
    "arr3.mean(axis = 2)   # arr3の列方向の平均を出力する"
   ]
  },
  {
   "cell_type": "markdown",
   "metadata": {
    "slideshow": {
     "slide_type": "slide"
    }
   },
   "source": [
    "## 演習問題\n",
    "- array.txtを読み込み[[342, 532, 21, 43], [756, 22, 11, 547], [7, 99, 3, 4]]を作成せよ\n",
    "- array.txtの各列の平均をnumpyの配列で出力せよ"
   ]
  },
  {
   "cell_type": "code",
   "execution_count": 32,
   "metadata": {
    "slideshow": {
     "slide_type": "slide"
    }
   },
   "outputs": [
    {
     "name": "stdout",
     "output_type": "stream",
     "text": [
      "[[342, 532, 21, 43], [756, 22, 11, 547], [7, 99, 3, 4]]\n"
     ]
    }
   ],
   "source": [
    "with open (\"array.txt\",\"r\") as f:   # arr.txtを読み込みモードで開き、fに代入する\n",
    "    arr = f.read().split(\"\\n\")       # fを読み込み、arrに代入する\n",
    "arr = [[int(a_) for a_ in a.split(\" \")]for a in arr]   # 数値型に変換し、 (半角スペース)で区切り、arrに代入する\n",
    "print(arr)   # arrを出力する"
   ]
  },
  {
   "cell_type": "code",
   "execution_count": 33,
   "metadata": {},
   "outputs": [
    {
     "name": "stdout",
     "output_type": "stream",
     "text": [
      "[ 234.5   334.     28.25]\n"
     ]
    }
   ],
   "source": [
    "arr = np.array(arr)   # arrをnumpy配列に変換し、arrに代入する\n",
    "print(arr.mean(axis = 1))   # arrの行方向の平均を出力する"
   ]
  },
  {
   "cell_type": "markdown",
   "metadata": {
    "slideshow": {
     "slide_type": "slide"
    }
   },
   "source": [
    "## numpyを使ってできること\n",
    "- ベクトルの内積\n",
    "- 行列の線形変換\n",
    "- 乱数の生成\n",
    "- 配列の形状の変更\n",
    "など"
   ]
  },
  {
   "cell_type": "markdown",
   "metadata": {
    "slideshow": {
     "slide_type": "slide"
    }
   },
   "source": [
    "# matplotlib"
   ]
  },
  {
   "cell_type": "markdown",
   "metadata": {
    "slideshow": {
     "slide_type": "slide"
    }
   },
   "source": [
    "## １次元の要素のプロット"
   ]
  },
  {
   "cell_type": "code",
   "execution_count": 98,
   "metadata": {},
   "outputs": [
    {
     "data": {
      "image/png": "[encoded data removed]",
      "text/plain": [
       "<matplotlib.figure.Figure at 0xadabc88>"
      ]
     },
     "metadata": {},
     "output_type": "display_data"
    }
   ],
   "source": [
    "# 1次元、9要素の配列を作成\n",
    "data = [3, 5, 1]   # dataにリストを代入する\n",
    "\n",
    "# 配列 data をプロット\n",
    "plt.plot(data)  # data図を作成する\n",
    "plt.show() # 作成した図を表示する"
   ]
  },
  {
   "cell_type": "code",
   "execution_count": 35,
   "metadata": {
    "collapsed": true
   },
   "outputs": [],
   "source": [
    "# ●ヒント\n",
    "# matplotlibはリストの順番に要素を代入し描画する"
   ]
  },
  {
   "cell_type": "markdown",
   "metadata": {
    "slideshow": {
     "slide_type": "slide"
    }
   },
   "source": [
    "## ２次元の要素のプロット"
   ]
  },
  {
   "cell_type": "code",
   "execution_count": 97,
   "metadata": {},
   "outputs": [
    {
     "data": {
      "image/png": "[encoded data removed]",
      "text/plain": [
       "<matplotlib.figure.Figure at 0xae04fd0>"
      ]
     },
     "metadata": {},
     "output_type": "display_data"
    }
   ],
   "source": [
    "x = [6, 10, 31]   # xにリストを代入する\n",
    "y = [3, 56, 34]   # yにリストを代入する\n",
    "plt.plot(x, y)  # xとyを作図する\n",
    "plt.show()   # 作図を出力する"
   ]
  },
  {
   "cell_type": "code",
   "execution_count": null,
   "metadata": {
    "collapsed": true
   },
   "outputs": [],
   "source": [
    "# ●ヒント\n",
    "# 2次元の要素では、リストに格納された要素番号通しがペアになって描画する\n",
    "# つまり上記の例では、xの6とyの3、xの10に対して、yの56が対応して、描画する"
   ]
  },
  {
   "cell_type": "markdown",
   "metadata": {
    "slideshow": {
     "slide_type": "slide"
    }
   },
   "source": [
    "# 画像をnumpy配列で扱う"
   ]
  },
  {
   "cell_type": "markdown",
   "metadata": {
    "slideshow": {
     "slide_type": "slide"
    }
   },
   "source": [
    "## 画像の読み込み\n",
    "- pillow(画像を扱うライブラリ)とnumpyを使うと画像をnumpyの配列で扱うことができる"
   ]
  },
  {
   "cell_type": "code",
   "execution_count": 37,
   "metadata": {},
   "outputs": [
    {
     "name": "stdout",
     "output_type": "stream",
     "text": [
      "[[[  0   0 255]\n",
      "  [  0   0 255]\n",
      "  [  0   0 255]]\n",
      "\n",
      " [[  0 255   0]\n",
      "  [  0 255   0]\n",
      "  [  0 255   0]]\n",
      "\n",
      " [[255   0   0]\n",
      "  [255   0   0]\n",
      "  [255   0   0]]]\n"
     ]
    }
   ],
   "source": [
    "img = np.array(Image.open('RGB.png'))   # RGB.pngファイルを開きnumpy配列に変換し、imgに代入する\n",
    "print(img)   # imgを出力する"
   ]
  },
  {
   "cell_type": "code",
   "execution_count": 38,
   "metadata": {
    "collapsed": true
   },
   "outputs": [],
   "source": [
    "# ●ヒント\n",
    "# imgモジュールを使うと画像をnumpy形式に変換することが出来る\n",
    "# 1ピクセル毎のR(赤), G(緑), B(青)の画素数を返す\n",
    "# 上記の例だとRGB.pngの画像の1ピクセルのR(赤), G(緑), B(青)比率は0, 0, 255であることが分かる\n",
    "# ヒトの目からはR(赤), G(緑), B(青)の比率は全て2次元にしか見えないが、コンピューターはR(赤), G(緑), B(青)を次元(層)として扱っている\n",
    "# つまり、0, 0, 255の場合、R(赤)は1層目、G(緑)は2層目、B(青)が3層目として認知されている\n",
    "\n",
    "# RGB.pngは行3ピクセル、列3ピクセルのデータである\n",
    "# 上記の出力結果を文字化すると以下のようになる\n",
    "\n",
    "# 青青青\n",
    "# 緑緑緑\n",
    "# 赤赤赤\n",
    "\n",
    "# 青、緑、赤の三色の画像データであることが分かる\n",
    "# 文字面では、2平面にしか見えないが、コンピュータは画素数を3次元として扱っている点は留意する必要有"
   ]
  },
  {
   "cell_type": "markdown",
   "metadata": {
    "slideshow": {
     "slide_type": "slide"
    }
   },
   "source": [
    "### 画像データの次元の確認"
   ]
  },
  {
   "cell_type": "markdown",
   "metadata": {},
   "source": [
    "<img src=\"img.png\">"
   ]
  },
  {
   "cell_type": "code",
   "execution_count": 39,
   "metadata": {},
   "outputs": [
    {
     "data": {
      "text/plain": [
       "(3, 3, 3)"
      ]
     },
     "execution_count": 39,
     "metadata": {},
     "output_type": "execute_result"
    }
   ],
   "source": [
    "img.shape   # imgの次元を返す"
   ]
  },
  {
   "cell_type": "code",
   "execution_count": 40,
   "metadata": {
    "collapsed": true
   },
   "outputs": [],
   "source": [
    "# ●ヒント\n",
    "# imgの次元を返すと、層：3、行：3、列:3となっていることが分かる\n",
    "# 先にも書いたようにヒトの目からは2次元(平面)に見える画像データはコンピューターは層、行、列の3次元で扱っていることが分かる"
   ]
  },
  {
   "cell_type": "markdown",
   "metadata": {
    "slideshow": {
     "slide_type": "slide"
    }
   },
   "source": [
    "## matplotlibを使って読み込んだ画像を表示"
   ]
  },
  {
   "cell_type": "code",
   "execution_count": 43,
   "metadata": {
    "scrolled": true
   },
   "outputs": [
    {
     "data": {
      "text/plain": [
       "<matplotlib.image.AxesImage at 0xacb89e8>"
      ]
     },
     "execution_count": 43,
     "metadata": {},
     "output_type": "execute_result"
    }
   ],
   "source": [
    "plt.imshow(img)   # imgを表示する"
   ]
  },
  {
   "cell_type": "markdown",
   "metadata": {},
   "source": [
    "## 画像データの要素の確認"
   ]
  },
  {
   "cell_type": "code",
   "execution_count": 45,
   "metadata": {},
   "outputs": [
    {
     "name": "stdout",
     "output_type": "stream",
     "text": [
      "[[  0   0   0]\n",
      " [  0   0   0]\n",
      " [255 255 255]]\n"
     ]
    }
   ],
   "source": [
    "print(img[:, :, 0])   # imgの要素数を出力する"
   ]
  },
  {
   "cell_type": "markdown",
   "metadata": {
    "slideshow": {
     "slide_type": "slide"
    }
   },
   "source": [
    "## 演習問題"
   ]
  },
  {
   "cell_type": "code",
   "execution_count": 46,
   "metadata": {},
   "outputs": [
    {
     "data": {
      "text/plain": [
       "<matplotlib.image.AxesImage at 0xacc44e0>"
      ]
     },
     "execution_count": 46,
     "metadata": {},
     "output_type": "execute_result"
    }
   ],
   "source": [
    "img1 = np.array(Image.open('rgb1.png'))   # rgb.pngを開いてnumpy配列に変換し、img1に代入する\n",
    "plt.imshow(img1)   # img1を表示する"
   ]
  },
  {
   "cell_type": "markdown",
   "metadata": {},
   "source": [
    "- 上の画像(rgb1.png)と同じ画像をnumpy配列で作成せよ。(for文などを使う等の工夫は必要ない)"
   ]
  },
  {
   "cell_type": "code",
   "execution_count": 48,
   "metadata": {
    "slideshow": {
     "slide_type": "slide"
    }
   },
   "outputs": [
    {
     "name": "stdout",
     "output_type": "stream",
     "text": [
      "[[[  0 255   0]\n",
      "  [  0 255   0]\n",
      "  [  0 255   0]]\n",
      "\n",
      " [[  0   0 255]\n",
      "  [  0   0 255]\n",
      "  [  0   0 255]]\n",
      "\n",
      " [[255   0   0]\n",
      "  [255   0   0]\n",
      "  [255   0   0]]]\n"
     ]
    }
   ],
   "source": [
    "img1 = np.array(Image.open('rgb1.png'))   # rgb.pngを開いてnumpy配列に変換し、img1に代入する\n",
    "print(img1)   # img1を出力する"
   ]
  },
  {
   "cell_type": "code",
   "execution_count": 95,
   "metadata": {
    "collapsed": true
   },
   "outputs": [],
   "source": [
    "# ●ヒント\n",
    "# numpyの返り値からrgb1.pngも行3ピクセル、列3ピクセルのデータであることが分かる\n",
    "# 上記の出力結果を文字化すると以下のようになる\n",
    "\n",
    "# 緑緑緑\n",
    "# 青青青\n",
    "# 赤赤赤"
   ]
  },
  {
   "cell_type": "markdown",
   "metadata": {
    "slideshow": {
     "slide_type": "slide"
    }
   },
   "source": [
    "## matplotlibのその他の主な機能\n",
    "- グラフの色や形、軸の名前を設定できる\n",
    "    - 棒グラフ\n",
    "    - 散布図\n",
    "    - 円グラフ\n",
    "    - 3Dグラフ\n",
    "    など"
   ]
  },
  {
   "cell_type": "markdown",
   "metadata": {
    "slideshow": {
     "slide_type": "slide"
    }
   },
   "source": [
    "# 無名関数"
   ]
  },
  {
   "cell_type": "markdown",
   "metadata": {
    "slideshow": {
     "slide_type": "slide"
    }
   },
   "source": [
    "## 復習問題\n",
    "### 関数の復習\n",
    "- 下記の関数の中身を記述せよ"
   ]
  },
  {
   "cell_type": "code",
   "execution_count": null,
   "metadata": {
    "collapsed": true
   },
   "outputs": [],
   "source": [
    "def calc(num):\n",
    "    \"\"\"\n",
    "    numは必ずint型で入力される\n",
    "    numが100より大きければ100を引いた値を、\n",
    "    numが１００以下の場合は100を足した値をout_numに代入する。\n",
    "    \"\"\"\n",
    "    return out_num"
   ]
  },
  {
   "cell_type": "code",
   "execution_count": 50,
   "metadata": {
    "slideshow": {
     "slide_type": "slide"
    }
   },
   "outputs": [
    {
     "data": {
      "text/plain": [
       "154"
      ]
     },
     "execution_count": 50,
     "metadata": {},
     "output_type": "execute_result"
    }
   ],
   "source": [
    "# 模範解答\n",
    "def calc(num):   # ユーザー定義関数calcを定義する\n",
    "    if num > 100:   # もしnumが100より大きい場合\n",
    "        out_num = num - 100   # out_numにnumから100引いた数を代入する\n",
    "    else:   # それ以外の場合は以下の処理をする\n",
    "        out_num = num + 100   # out_numにnumに100足した数を代入する\n",
    "    return out_num   # out_numの値を返す\n",
    "\n",
    "calc(54)   # ユーザー定義関数clacに54を代入して計算する"
   ]
  },
  {
   "cell_type": "markdown",
   "metadata": {
    "slideshow": {
     "slide_type": "slide"
    }
   },
   "source": [
    "### 内包表記の復習\n",
    "- [456,56,543,67]の各要素を１つ１つ検証し、100より大きければ100を引いた値に、１００以下の場合は100を足した値に変換せよ。\n",
    "- ただし、内包表記を用いること"
   ]
  },
  {
   "cell_type": "code",
   "execution_count": 51,
   "metadata": {},
   "outputs": [
    {
     "name": "stdout",
     "output_type": "stream",
     "text": [
      "[356, 156, 443, 167]\n"
     ]
    }
   ],
   "source": [
    "listA = [456, 56, 543, 67]   # listAにリストを代入する\n",
    "print([calc(i) for i in listA])   # listAに格納されている要素を対象にユーザー定義関数calcで計算した値を出力する"
   ]
  },
  {
   "cell_type": "markdown",
   "metadata": {
    "slideshow": {
     "slide_type": "slide"
    }
   },
   "source": [
    "## 無名関数とは\n",
    "- 無名関数とは名前を持たない関数のこと\n",
    "- 場合によっては通常の関数より簡潔に記述することもできる\n",
    "- 簡単な処理を記述する際に使う。\n",
    "- listやdataframeなどの各要素に対して同じ処理を繰り返し行うときにfor文を使うよりも早く処理をこなすことができる"
   ]
  },
  {
   "cell_type": "code",
   "execution_count": null,
   "metadata": {
    "collapsed": true
   },
   "outputs": [],
   "source": [
    "# ●ヒント\n",
    "# Pythonは繰り返し処理が遅いので、長いプログラムの場合はfor文で処理するよりも無名関数(Lambda関数)で処理する方が早い場合がある"
   ]
  },
  {
   "cell_type": "markdown",
   "metadata": {
    "slideshow": {
     "slide_type": "slide"
    }
   },
   "source": [
    "## 無名関数の文法\n",
    "- lambda 引数 : 返り値\n",
    "- 引数に1を足す関数を書いてみる"
   ]
  },
  {
   "cell_type": "code",
   "execution_count": 53,
   "metadata": {},
   "outputs": [
    {
     "data": {
      "text/plain": [
       "<function __main__.<lambda>>"
      ]
     },
     "execution_count": 53,
     "metadata": {},
     "output_type": "execute_result"
    }
   ],
   "source": [
    "lambda x : x + 1   # xは、xに1を足した数を返す"
   ]
  },
  {
   "cell_type": "markdown",
   "metadata": {},
   "source": [
    "## if文を使った無名関数\n",
    "- lambda \"引数\" :  \"条件を満たした際の返り値\"　if \"条件文\"　else \"条件文を満たさない時の返り値\"\n"
   ]
  },
  {
   "cell_type": "code",
   "execution_count": 54,
   "metadata": {},
   "outputs": [
    {
     "data": {
      "text/plain": [
       "<function __main__.<lambda>>"
      ]
     },
     "execution_count": 54,
     "metadata": {},
     "output_type": "execute_result"
    }
   ],
   "source": [
    "lambda x : x if x == 4 else 100   # もしxが4と等しい場合、xを出力し、それ以外の場合は100を出力する"
   ]
  },
  {
   "cell_type": "code",
   "execution_count": 55,
   "metadata": {
    "collapsed": true
   },
   "outputs": [],
   "source": [
    "# 上記の無名関数を通常のユーザー定義関数で書いた場合\n",
    "def exmp(x):   # ユーザー定義関数exmpを定義する\n",
    "    if x == 4:   # もしxが4と等しい場合\n",
    "        out_num = x   # out_numにxを代入する\n",
    "    else:   # それ以外の場合は以下の処理をする\n",
    "        out_num =  100   # out_numに100を代入する\n",
    "    return 100   # 100を戻り値に設定する"
   ]
  },
  {
   "cell_type": "code",
   "execution_count": 56,
   "metadata": {
    "collapsed": true
   },
   "outputs": [],
   "source": [
    "# ●ヒント\n",
    "# lambda式を使うと簡潔にコーディングすることが出来、for文での繰り返し処理をしなくても済む"
   ]
  },
  {
   "cell_type": "markdown",
   "metadata": {
    "slideshow": {
     "slide_type": "slide"
    }
   },
   "source": [
    "## mapを使ったlistの各要素への適用\n",
    "- map(リスト,無名関数)でリストの各要素に対して関数を適用\n",
    "- listとして出力するにはlist()でlist型にキャストする必要がある。"
   ]
  },
  {
   "cell_type": "code",
   "execution_count": 58,
   "metadata": {},
   "outputs": [
    {
     "data": {
      "text/plain": [
       "[100, 100, 4]"
      ]
     },
     "execution_count": 58,
     "metadata": {},
     "output_type": "execute_result"
    }
   ],
   "source": [
    "list(map(lambda x : x if x == 4 else 100,[3, 5, 4]))   # もしxが4と等しい場合、xを出力し、それ以外の場合は100を出力する\n",
    "# 3, 5, 4をxに代入して戻り値を計算する"
   ]
  },
  {
   "cell_type": "code",
   "execution_count": null,
   "metadata": {
    "collapsed": true
   },
   "outputs": [],
   "source": [
    "# ●ヒント\n",
    "# lambda式に3, 5, 4を代入すると、4以外はlambda式の条件に合致しないため、100が返される"
   ]
  },
  {
   "cell_type": "markdown",
   "metadata": {
    "slideshow": {
     "slide_type": "slide"
    }
   },
   "source": [
    "## 演習問題\n",
    "- 456,56,543,67]の各要素を１つ１つ検証し、100より大きければ100を引いた値に、１００以下の場合は100を足した値に変換せよ。\n",
    "- ただし、無名関数とmap()を用いて記述せよ"
   ]
  },
  {
   "cell_type": "code",
   "execution_count": 59,
   "metadata": {
    "slideshow": {
     "slide_type": "slide"
    }
   },
   "outputs": [
    {
     "data": {
      "text/plain": [
       "[356, 156, 443, 167]"
      ]
     },
     "execution_count": 59,
     "metadata": {},
     "output_type": "execute_result"
    }
   ],
   "source": [
    "listB = [456, 56, 543, 67]   # listBにリストを代入する\n",
    "list(map(lambda x: x - 100 if x > 100 else x + 100, listB))\n",
    "# もしxが100より大きい場合、xから100を引いて出力し、それ以外の場合は100を足して出力する\n",
    "# 上記の処理をlistB[456, 56, 543, 67]に対して行い、結果を出力する"
   ]
  },
  {
   "cell_type": "markdown",
   "metadata": {
    "slideshow": {
     "slide_type": "slide"
    }
   },
   "source": [
    "# pandas"
   ]
  },
  {
   "cell_type": "markdown",
   "metadata": {
    "slideshow": {
     "slide_type": "slide"
    }
   },
   "source": [
    "## csvファイルの読み込み"
   ]
  },
  {
   "cell_type": "code",
   "execution_count": 60,
   "metadata": {
    "collapsed": true
   },
   "outputs": [],
   "source": [
    "# CSVファイルの読み込み\n",
    "df = pd.read_csv(\"sample.csv\")   # sample.csvを読み込む"
   ]
  },
  {
   "cell_type": "code",
   "execution_count": 61,
   "metadata": {
    "collapsed": true
   },
   "outputs": [],
   "source": [
    "# ●ヒント\n",
    "# pandasでもテキスト・ファイルをデータの読み込みは可能だ”が、整形されていない状態、つまり、余計なデータが入っていたり\n",
    "# 表からはみ出たデータがある場合は、エラーになってしまう\n",
    "# pandasを扱う前提として、データを整形しておく必要がある"
   ]
  },
  {
   "cell_type": "markdown",
   "metadata": {},
   "source": [
    "## dataframeの表示\n",
    "- dataframe はprint()よりもdisplay()の方が綺麗に表示させることができる\n",
    "- dataframeはエクセルの\"シート\"のようなもの"
   ]
  },
  {
   "cell_type": "code",
   "execution_count": 62,
   "metadata": {},
   "outputs": [
    {
     "data": {
      "text/html": [
       "<div>\n",
       "<style>\n",
       "    .dataframe thead tr:only-child th {\n",
       "        text-align: right;\n",
       "    }\n",
       "\n",
       "    .dataframe thead th {\n",
       "        text-align: left;\n",
       "    }\n",
       "\n",
       "    .dataframe tbody tr th {\n",
       "        vertical-align: top;\n",
       "    }\n",
       "</style>\n",
       "<table border=\"1\" class=\"dataframe\">\n",
       "  <thead>\n",
       "    <tr style=\"text-align: right;\">\n",
       "      <th></th>\n",
       "      <th>name</th>\n",
       "      <th>dept</th>\n",
       "      <th>height</th>\n",
       "      <th>weight</th>\n",
       "      <th>age</th>\n",
       "    </tr>\n",
       "  </thead>\n",
       "  <tbody>\n",
       "    <tr>\n",
       "      <th>0</th>\n",
       "      <td>sato</td>\n",
       "      <td>a</td>\n",
       "      <td>170</td>\n",
       "      <td>67</td>\n",
       "      <td>54</td>\n",
       "    </tr>\n",
       "    <tr>\n",
       "      <th>1</th>\n",
       "      <td>tanaka</td>\n",
       "      <td>b</td>\n",
       "      <td>156</td>\n",
       "      <td>54</td>\n",
       "      <td>34</td>\n",
       "    </tr>\n",
       "    <tr>\n",
       "      <th>2</th>\n",
       "      <td>takahashi</td>\n",
       "      <td>a</td>\n",
       "      <td>182</td>\n",
       "      <td>71</td>\n",
       "      <td>49</td>\n",
       "    </tr>\n",
       "    <tr>\n",
       "      <th>3</th>\n",
       "      <td>kudo</td>\n",
       "      <td>c</td>\n",
       "      <td>165</td>\n",
       "      <td>65</td>\n",
       "      <td>26</td>\n",
       "    </tr>\n",
       "    <tr>\n",
       "      <th>4</th>\n",
       "      <td>komachi</td>\n",
       "      <td>a</td>\n",
       "      <td>160</td>\n",
       "      <td>52</td>\n",
       "      <td>38</td>\n",
       "    </tr>\n",
       "    <tr>\n",
       "      <th>5</th>\n",
       "      <td>nishida</td>\n",
       "      <td>b</td>\n",
       "      <td>147</td>\n",
       "      <td>42</td>\n",
       "      <td>31</td>\n",
       "    </tr>\n",
       "    <tr>\n",
       "      <th>6</th>\n",
       "      <td>komori</td>\n",
       "      <td>c</td>\n",
       "      <td>180</td>\n",
       "      <td>89</td>\n",
       "      <td>34</td>\n",
       "    </tr>\n",
       "  </tbody>\n",
       "</table>\n",
       "</div>"
      ],
      "text/plain": [
       "        name dept  height  weight  age\n",
       "0       sato    a     170      67   54\n",
       "1     tanaka    b     156      54   34\n",
       "2  takahashi    a     182      71   49\n",
       "3       kudo    c     165      65   26\n",
       "4    komachi    a     160      52   38\n",
       "5    nishida    b     147      42   31\n",
       "6     komori    c     180      89   34"
      ]
     },
     "metadata": {},
     "output_type": "display_data"
    }
   ],
   "source": [
    "display(df)   # dfを表示する"
   ]
  },
  {
   "cell_type": "code",
   "execution_count": 63,
   "metadata": {
    "collapsed": true
   },
   "outputs": [],
   "source": [
    "# ●ヒント\n",
    "# display関数\n",
    "# display関数を使うと、print関数よりもキレイに出力することが出来る\n",
    "# 尚、変数名だけを書いても出力出来る"
   ]
  },
  {
   "cell_type": "markdown",
   "metadata": {
    "slideshow": {
     "slide_type": "slide"
    }
   },
   "source": [
    "## 列ごとのデータの取り出し\n",
    "- df[\"列名\"]　または、df.列名で列を取り出すことができる"
   ]
  },
  {
   "cell_type": "code",
   "execution_count": 64,
   "metadata": {},
   "outputs": [
    {
     "name": "stdout",
     "output_type": "stream",
     "text": [
      "0         sato\n",
      "1       tanaka\n",
      "2    takahashi\n",
      "3         kudo\n",
      "4      komachi\n",
      "5      nishida\n",
      "6       komori\n",
      "Name: name, dtype: object\n"
     ]
    }
   ],
   "source": [
    "print(df[\"name\"])   # dfのname列を出力する"
   ]
  },
  {
   "cell_type": "code",
   "execution_count": 65,
   "metadata": {},
   "outputs": [
    {
     "data": {
      "text/plain": [
       "0    a\n",
       "1    b\n",
       "2    a\n",
       "3    c\n",
       "4    a\n",
       "5    b\n",
       "6    c\n",
       "Name: dept, dtype: object"
      ]
     },
     "execution_count": 65,
     "metadata": {},
     "output_type": "execute_result"
    }
   ],
   "source": [
    "df.dept   # dfのdept列を出力する"
   ]
  },
  {
   "cell_type": "code",
   "execution_count": 66,
   "metadata": {
    "collapsed": true
   },
   "outputs": [],
   "source": [
    "# ●ヒント\n",
    "# print関数が無くてもdf.列名で、任意の列のデータだけを表示することが出来る"
   ]
  },
  {
   "cell_type": "markdown",
   "metadata": {
    "slideshow": {
     "slide_type": "slide"
    }
   },
   "source": [
    "## 取り出したデータの扱い\n",
    "- 取り出した列の値はlistと同様に扱うことができる"
   ]
  },
  {
   "cell_type": "code",
   "execution_count": 67,
   "metadata": {},
   "outputs": [
    {
     "name": "stdout",
     "output_type": "stream",
     "text": [
      "sato\n",
      "tanaka\n",
      "takahashi\n",
      "kudo\n",
      "komachi\n",
      "nishida\n",
      "komori\n"
     ]
    }
   ],
   "source": [
    "for n in df[\"name\"]:   # dfのname列に格納されているデータを\n",
    "    print(n)   # name列のデータを表示する"
   ]
  },
  {
   "cell_type": "code",
   "execution_count": 68,
   "metadata": {},
   "outputs": [
    {
     "data": {
      "text/plain": [
       "'sato'"
      ]
     },
     "execution_count": 68,
     "metadata": {},
     "output_type": "execute_result"
    }
   ],
   "source": [
    "df[\"name\"][0]   # dfのname列の0番目の要素を出力する"
   ]
  },
  {
   "cell_type": "code",
   "execution_count": 70,
   "metadata": {
    "collapsed": true
   },
   "outputs": [],
   "source": [
    "# ●ヒント\n",
    "# データフレームに[]を続けることで、任意の列、要素を抽出することが出来る\n",
    "\n",
    "# データフレーム[\"列名\"]\n",
    "# 任意の列の抽出が出来る\n",
    "# 上記の例ではデータフレームのname列を抽出している\n",
    "\n",
    "# データフレーム[\"列名\"][要素番号]\n",
    "# 任意の列の要素を抽出出来る\n",
    "# 上記の例ではデータフレームのname列の0番目の要素を抽出している"
   ]
  },
  {
   "cell_type": "markdown",
   "metadata": {
    "slideshow": {
     "slide_type": "slide"
    }
   },
   "source": [
    "## 演習問題1\n",
    "- データに登録されている苗字のイニシャルを取り出したリスト(['s', 't', 't', 'k', 'k', 'n', 'k'])を作成せよ"
   ]
  },
  {
   "cell_type": "code",
   "execution_count": 71,
   "metadata": {
    "slideshow": {
     "slide_type": "slide"
    }
   },
   "outputs": [
    {
     "name": "stdout",
     "output_type": "stream",
     "text": [
      "['s', 't', 't', 'k', 'k', 'n', 'k']\n"
     ]
    }
   ],
   "source": [
    "initial_list = []   # intial_listの空リストを作る\n",
    "for n in df[\"name\"]:   # dfのname列に格納されているデータを\n",
    "    initial_list.append(n[0])   # initial_listの0文字目を取得する\n",
    "print(initial_list)   # intiial_listを出力する"
   ]
  },
  {
   "cell_type": "markdown",
   "metadata": {
    "slideshow": {
     "slide_type": "slide"
    }
   },
   "source": [
    "## 新しい列の定義\n",
    "- df[\"新しく定義する列名\"]　= 格納するデータ(行数と同じ長さのlist)で新しい列に値を代入することができる"
   ]
  },
  {
   "cell_type": "code",
   "execution_count": 72,
   "metadata": {},
   "outputs": [
    {
     "data": {
      "text/html": [
       "<div>\n",
       "<style>\n",
       "    .dataframe thead tr:only-child th {\n",
       "        text-align: right;\n",
       "    }\n",
       "\n",
       "    .dataframe thead th {\n",
       "        text-align: left;\n",
       "    }\n",
       "\n",
       "    .dataframe tbody tr th {\n",
       "        vertical-align: top;\n",
       "    }\n",
       "</style>\n",
       "<table border=\"1\" class=\"dataframe\">\n",
       "  <thead>\n",
       "    <tr style=\"text-align: right;\">\n",
       "      <th></th>\n",
       "      <th>name</th>\n",
       "      <th>dept</th>\n",
       "      <th>height</th>\n",
       "      <th>weight</th>\n",
       "      <th>age</th>\n",
       "      <th>initial</th>\n",
       "    </tr>\n",
       "  </thead>\n",
       "  <tbody>\n",
       "    <tr>\n",
       "      <th>0</th>\n",
       "      <td>sato</td>\n",
       "      <td>a</td>\n",
       "      <td>170</td>\n",
       "      <td>67</td>\n",
       "      <td>54</td>\n",
       "      <td>s</td>\n",
       "    </tr>\n",
       "    <tr>\n",
       "      <th>1</th>\n",
       "      <td>tanaka</td>\n",
       "      <td>b</td>\n",
       "      <td>156</td>\n",
       "      <td>54</td>\n",
       "      <td>34</td>\n",
       "      <td>t</td>\n",
       "    </tr>\n",
       "    <tr>\n",
       "      <th>2</th>\n",
       "      <td>takahashi</td>\n",
       "      <td>a</td>\n",
       "      <td>182</td>\n",
       "      <td>71</td>\n",
       "      <td>49</td>\n",
       "      <td>t</td>\n",
       "    </tr>\n",
       "    <tr>\n",
       "      <th>3</th>\n",
       "      <td>kudo</td>\n",
       "      <td>c</td>\n",
       "      <td>165</td>\n",
       "      <td>65</td>\n",
       "      <td>26</td>\n",
       "      <td>k</td>\n",
       "    </tr>\n",
       "    <tr>\n",
       "      <th>4</th>\n",
       "      <td>komachi</td>\n",
       "      <td>a</td>\n",
       "      <td>160</td>\n",
       "      <td>52</td>\n",
       "      <td>38</td>\n",
       "      <td>k</td>\n",
       "    </tr>\n",
       "    <tr>\n",
       "      <th>5</th>\n",
       "      <td>nishida</td>\n",
       "      <td>b</td>\n",
       "      <td>147</td>\n",
       "      <td>42</td>\n",
       "      <td>31</td>\n",
       "      <td>n</td>\n",
       "    </tr>\n",
       "    <tr>\n",
       "      <th>6</th>\n",
       "      <td>komori</td>\n",
       "      <td>c</td>\n",
       "      <td>180</td>\n",
       "      <td>89</td>\n",
       "      <td>34</td>\n",
       "      <td>k</td>\n",
       "    </tr>\n",
       "  </tbody>\n",
       "</table>\n",
       "</div>"
      ],
      "text/plain": [
       "        name dept  height  weight  age initial\n",
       "0       sato    a     170      67   54       s\n",
       "1     tanaka    b     156      54   34       t\n",
       "2  takahashi    a     182      71   49       t\n",
       "3       kudo    c     165      65   26       k\n",
       "4    komachi    a     160      52   38       k\n",
       "5    nishida    b     147      42   31       n\n",
       "6     komori    c     180      89   34       k"
      ]
     },
     "metadata": {},
     "output_type": "display_data"
    }
   ],
   "source": [
    "df[\"initial\"] = initial_list   # 新しい変数initial_listをdfのinitial_list列として追加する\n",
    "display(df)   # dfを表示する"
   ]
  },
  {
   "cell_type": "code",
   "execution_count": null,
   "metadata": {
    "collapsed": true
   },
   "outputs": [],
   "source": [
    "# ●ヒント\n",
    "# df[\"新しく定義する列名\"]　= 格納するデータ(行数と同じ長さのlist)でデータフレームに新しい列を追加できる\n",
    "# 上記の例では、initial_listというデータセットをdfのinitialという列として代入している"
   ]
  },
  {
   "cell_type": "markdown",
   "metadata": {
    "slideshow": {
     "slide_type": "slide"
    }
   },
   "source": [
    "## apply()を使って無名関数を各要素に適用"
   ]
  },
  {
   "cell_type": "code",
   "execution_count": 74,
   "metadata": {},
   "outputs": [
    {
     "data": {
      "text/html": [
       "<div>\n",
       "<style>\n",
       "    .dataframe thead tr:only-child th {\n",
       "        text-align: right;\n",
       "    }\n",
       "\n",
       "    .dataframe thead th {\n",
       "        text-align: left;\n",
       "    }\n",
       "\n",
       "    .dataframe tbody tr th {\n",
       "        vertical-align: top;\n",
       "    }\n",
       "</style>\n",
       "<table border=\"1\" class=\"dataframe\">\n",
       "  <thead>\n",
       "    <tr style=\"text-align: right;\">\n",
       "      <th></th>\n",
       "      <th>name</th>\n",
       "      <th>dept</th>\n",
       "      <th>height</th>\n",
       "      <th>weight</th>\n",
       "      <th>age</th>\n",
       "      <th>initial</th>\n",
       "      <th>initial1</th>\n",
       "    </tr>\n",
       "  </thead>\n",
       "  <tbody>\n",
       "    <tr>\n",
       "      <th>0</th>\n",
       "      <td>sato</td>\n",
       "      <td>a</td>\n",
       "      <td>170</td>\n",
       "      <td>67</td>\n",
       "      <td>54</td>\n",
       "      <td>s</td>\n",
       "      <td>s</td>\n",
       "    </tr>\n",
       "    <tr>\n",
       "      <th>1</th>\n",
       "      <td>tanaka</td>\n",
       "      <td>b</td>\n",
       "      <td>156</td>\n",
       "      <td>54</td>\n",
       "      <td>34</td>\n",
       "      <td>t</td>\n",
       "      <td>t</td>\n",
       "    </tr>\n",
       "    <tr>\n",
       "      <th>2</th>\n",
       "      <td>takahashi</td>\n",
       "      <td>a</td>\n",
       "      <td>182</td>\n",
       "      <td>71</td>\n",
       "      <td>49</td>\n",
       "      <td>t</td>\n",
       "      <td>t</td>\n",
       "    </tr>\n",
       "    <tr>\n",
       "      <th>3</th>\n",
       "      <td>kudo</td>\n",
       "      <td>c</td>\n",
       "      <td>165</td>\n",
       "      <td>65</td>\n",
       "      <td>26</td>\n",
       "      <td>k</td>\n",
       "      <td>k</td>\n",
       "    </tr>\n",
       "    <tr>\n",
       "      <th>4</th>\n",
       "      <td>komachi</td>\n",
       "      <td>a</td>\n",
       "      <td>160</td>\n",
       "      <td>52</td>\n",
       "      <td>38</td>\n",
       "      <td>k</td>\n",
       "      <td>k</td>\n",
       "    </tr>\n",
       "    <tr>\n",
       "      <th>5</th>\n",
       "      <td>nishida</td>\n",
       "      <td>b</td>\n",
       "      <td>147</td>\n",
       "      <td>42</td>\n",
       "      <td>31</td>\n",
       "      <td>n</td>\n",
       "      <td>n</td>\n",
       "    </tr>\n",
       "    <tr>\n",
       "      <th>6</th>\n",
       "      <td>komori</td>\n",
       "      <td>c</td>\n",
       "      <td>180</td>\n",
       "      <td>89</td>\n",
       "      <td>34</td>\n",
       "      <td>k</td>\n",
       "      <td>k</td>\n",
       "    </tr>\n",
       "  </tbody>\n",
       "</table>\n",
       "</div>"
      ],
      "text/plain": [
       "        name dept  height  weight  age initial initial1\n",
       "0       sato    a     170      67   54       s        s\n",
       "1     tanaka    b     156      54   34       t        t\n",
       "2  takahashi    a     182      71   49       t        t\n",
       "3       kudo    c     165      65   26       k        k\n",
       "4    komachi    a     160      52   38       k        k\n",
       "5    nishida    b     147      42   31       n        n\n",
       "6     komori    c     180      89   34       k        k"
      ]
     },
     "metadata": {},
     "output_type": "display_data"
    }
   ],
   "source": [
    "df[\"initial1\"] = df[\"name\"].apply(lambda x: x[0])   # dfのname列の0番目の要素をdfのinitial1列として代入する\n",
    "display(df)   # dfを表示する"
   ]
  },
  {
   "cell_type": "code",
   "execution_count": null,
   "metadata": {
    "collapsed": true
   },
   "outputs": [],
   "source": [
    "# ●ヒント\n",
    "# apply()関数\n",
    "# apply()関数を使うとデータフレームの任意の列に格納されているデータの要素までハンドリングすることが出来る\n",
    "# 上記の例では、lambda関数を使ってname列に格納されているデータの0番目の文字を取り出して、新しい列に格納している"
   ]
  },
  {
   "cell_type": "markdown",
   "metadata": {
    "slideshow": {
     "slide_type": "slide"
    }
   },
   "source": [
    "## 演習問題2\n",
    "-　dfに新しい列\"about\"という列を作成し、それぞれの年代を作成せよ\n",
    "- 年齢が20代なら20s,30代なら30sとせよ\n",
    "- 無名関数を用いよ"
   ]
  },
  {
   "cell_type": "code",
   "execution_count": 75,
   "metadata": {},
   "outputs": [
    {
     "data": {
      "text/html": [
       "<div>\n",
       "<style>\n",
       "    .dataframe thead tr:only-child th {\n",
       "        text-align: right;\n",
       "    }\n",
       "\n",
       "    .dataframe thead th {\n",
       "        text-align: left;\n",
       "    }\n",
       "\n",
       "    .dataframe tbody tr th {\n",
       "        vertical-align: top;\n",
       "    }\n",
       "</style>\n",
       "<table border=\"1\" class=\"dataframe\">\n",
       "  <thead>\n",
       "    <tr style=\"text-align: right;\">\n",
       "      <th></th>\n",
       "      <th>name</th>\n",
       "      <th>dept</th>\n",
       "      <th>height</th>\n",
       "      <th>weight</th>\n",
       "      <th>age</th>\n",
       "      <th>initial</th>\n",
       "      <th>initial1</th>\n",
       "      <th>about</th>\n",
       "    </tr>\n",
       "  </thead>\n",
       "  <tbody>\n",
       "    <tr>\n",
       "      <th>0</th>\n",
       "      <td>sato</td>\n",
       "      <td>a</td>\n",
       "      <td>170</td>\n",
       "      <td>67</td>\n",
       "      <td>54</td>\n",
       "      <td>s</td>\n",
       "      <td>s</td>\n",
       "      <td>50s</td>\n",
       "    </tr>\n",
       "    <tr>\n",
       "      <th>1</th>\n",
       "      <td>tanaka</td>\n",
       "      <td>b</td>\n",
       "      <td>156</td>\n",
       "      <td>54</td>\n",
       "      <td>34</td>\n",
       "      <td>t</td>\n",
       "      <td>t</td>\n",
       "      <td>30s</td>\n",
       "    </tr>\n",
       "    <tr>\n",
       "      <th>2</th>\n",
       "      <td>takahashi</td>\n",
       "      <td>a</td>\n",
       "      <td>182</td>\n",
       "      <td>71</td>\n",
       "      <td>49</td>\n",
       "      <td>t</td>\n",
       "      <td>t</td>\n",
       "      <td>40s</td>\n",
       "    </tr>\n",
       "    <tr>\n",
       "      <th>3</th>\n",
       "      <td>kudo</td>\n",
       "      <td>c</td>\n",
       "      <td>165</td>\n",
       "      <td>65</td>\n",
       "      <td>26</td>\n",
       "      <td>k</td>\n",
       "      <td>k</td>\n",
       "      <td>20s</td>\n",
       "    </tr>\n",
       "    <tr>\n",
       "      <th>4</th>\n",
       "      <td>komachi</td>\n",
       "      <td>a</td>\n",
       "      <td>160</td>\n",
       "      <td>52</td>\n",
       "      <td>38</td>\n",
       "      <td>k</td>\n",
       "      <td>k</td>\n",
       "      <td>30s</td>\n",
       "    </tr>\n",
       "    <tr>\n",
       "      <th>5</th>\n",
       "      <td>nishida</td>\n",
       "      <td>b</td>\n",
       "      <td>147</td>\n",
       "      <td>42</td>\n",
       "      <td>31</td>\n",
       "      <td>n</td>\n",
       "      <td>n</td>\n",
       "      <td>30s</td>\n",
       "    </tr>\n",
       "    <tr>\n",
       "      <th>6</th>\n",
       "      <td>komori</td>\n",
       "      <td>c</td>\n",
       "      <td>180</td>\n",
       "      <td>89</td>\n",
       "      <td>34</td>\n",
       "      <td>k</td>\n",
       "      <td>k</td>\n",
       "      <td>30s</td>\n",
       "    </tr>\n",
       "  </tbody>\n",
       "</table>\n",
       "</div>"
      ],
      "text/plain": [
       "        name dept  height  weight  age initial initial1 about\n",
       "0       sato    a     170      67   54       s        s   50s\n",
       "1     tanaka    b     156      54   34       t        t   30s\n",
       "2  takahashi    a     182      71   49       t        t   40s\n",
       "3       kudo    c     165      65   26       k        k   20s\n",
       "4    komachi    a     160      52   38       k        k   30s\n",
       "5    nishida    b     147      42   31       n        n   30s\n",
       "6     komori    c     180      89   34       k        k   30s"
      ]
     },
     "metadata": {},
     "output_type": "display_data"
    }
   ],
   "source": [
    "df[\"about\"] = df[\"age\"].apply(lambda x: str(x)[0] + \"0s\")   # dfのage列のデータを文字型に変換して0sを付け加える\n",
    "display(df)   # dfを表示する"
   ]
  },
  {
   "cell_type": "code",
   "execution_count": 76,
   "metadata": {},
   "outputs": [
    {
     "name": "stdout",
     "output_type": "stream",
     "text": [
      "['50s', '30s', '40s', '20s', '30s', '30s', '30s']\n"
     ]
    }
   ],
   "source": [
    "# 別解\n",
    "# Lambda式を使わない場合の解等例\n",
    "\n",
    "about_list = []   # about_listの空リストを作る\n",
    "for a in df[\"age\"]:   # dfのage列に対して\n",
    "    about_list.append(str(a)[0] + \"0s\")   # age列を文字列化して0sを追加する\n",
    "print(about_list)   # about_listを出力する"
   ]
  },
  {
   "cell_type": "markdown",
   "metadata": {
    "slideshow": {
     "slide_type": "slide"
    }
   },
   "source": [
    "## groupby()を用いたグルーピング\n",
    "- df.groupby(\"列名\")で、指定した列名の値ごとにグルーピングされる。"
   ]
  },
  {
   "cell_type": "code",
   "execution_count": 77,
   "metadata": {
    "collapsed": true
   },
   "outputs": [],
   "source": [
    "grouped = df.groupby(\"dept\")   # dfのdept列でグルーピングして、groupedに代入する"
   ]
  },
  {
   "cell_type": "markdown",
   "metadata": {},
   "source": [
    "- グルーピングされたオブジェクト.mean()で値ごとの平均値を出力できる\n",
    "- 返り値は新しいデータフレームとなる"
   ]
  },
  {
   "cell_type": "code",
   "execution_count": 78,
   "metadata": {},
   "outputs": [
    {
     "data": {
      "text/html": [
       "<div>\n",
       "<style>\n",
       "    .dataframe thead tr:only-child th {\n",
       "        text-align: right;\n",
       "    }\n",
       "\n",
       "    .dataframe thead th {\n",
       "        text-align: left;\n",
       "    }\n",
       "\n",
       "    .dataframe tbody tr th {\n",
       "        vertical-align: top;\n",
       "    }\n",
       "</style>\n",
       "<table border=\"1\" class=\"dataframe\">\n",
       "  <thead>\n",
       "    <tr style=\"text-align: right;\">\n",
       "      <th></th>\n",
       "      <th>height</th>\n",
       "      <th>weight</th>\n",
       "      <th>age</th>\n",
       "    </tr>\n",
       "    <tr>\n",
       "      <th>dept</th>\n",
       "      <th></th>\n",
       "      <th></th>\n",
       "      <th></th>\n",
       "    </tr>\n",
       "  </thead>\n",
       "  <tbody>\n",
       "    <tr>\n",
       "      <th>a</th>\n",
       "      <td>170.666667</td>\n",
       "      <td>63.333333</td>\n",
       "      <td>47.0</td>\n",
       "    </tr>\n",
       "    <tr>\n",
       "      <th>b</th>\n",
       "      <td>151.500000</td>\n",
       "      <td>48.000000</td>\n",
       "      <td>32.5</td>\n",
       "    </tr>\n",
       "    <tr>\n",
       "      <th>c</th>\n",
       "      <td>172.500000</td>\n",
       "      <td>77.000000</td>\n",
       "      <td>30.0</td>\n",
       "    </tr>\n",
       "  </tbody>\n",
       "</table>\n",
       "</div>"
      ],
      "text/plain": [
       "          height     weight   age\n",
       "dept                             \n",
       "a     170.666667  63.333333  47.0\n",
       "b     151.500000  48.000000  32.5\n",
       "c     172.500000  77.000000  30.0"
      ]
     },
     "metadata": {},
     "output_type": "display_data"
    }
   ],
   "source": [
    "df_dept_mean = grouped.mean()   # グループの平均値をdf_dept_meanに代入する\n",
    "display(df_dept_mean)   # df_dept_meanを出力する"
   ]
  },
  {
   "cell_type": "markdown",
   "metadata": {
    "slideshow": {
     "slide_type": "slide"
    }
   },
   "source": [
    "- mean()以外にもmax：最大値,min:最小値,sum:合計値のようにグループごとの統計量を算出できる"
   ]
  },
  {
   "cell_type": "code",
   "execution_count": 79,
   "metadata": {
    "scrolled": true
   },
   "outputs": [
    {
     "data": {
      "text/html": [
       "<div>\n",
       "<style>\n",
       "    .dataframe thead tr:only-child th {\n",
       "        text-align: right;\n",
       "    }\n",
       "\n",
       "    .dataframe thead th {\n",
       "        text-align: left;\n",
       "    }\n",
       "\n",
       "    .dataframe tbody tr th {\n",
       "        vertical-align: top;\n",
       "    }\n",
       "</style>\n",
       "<table border=\"1\" class=\"dataframe\">\n",
       "  <thead>\n",
       "    <tr style=\"text-align: right;\">\n",
       "      <th></th>\n",
       "      <th>name</th>\n",
       "      <th>height</th>\n",
       "      <th>weight</th>\n",
       "      <th>age</th>\n",
       "      <th>initial</th>\n",
       "      <th>initial1</th>\n",
       "      <th>about</th>\n",
       "    </tr>\n",
       "    <tr>\n",
       "      <th>dept</th>\n",
       "      <th></th>\n",
       "      <th></th>\n",
       "      <th></th>\n",
       "      <th></th>\n",
       "      <th></th>\n",
       "      <th></th>\n",
       "      <th></th>\n",
       "    </tr>\n",
       "  </thead>\n",
       "  <tbody>\n",
       "    <tr>\n",
       "      <th>a</th>\n",
       "      <td>takahashi</td>\n",
       "      <td>182</td>\n",
       "      <td>71</td>\n",
       "      <td>54</td>\n",
       "      <td>t</td>\n",
       "      <td>t</td>\n",
       "      <td>50s</td>\n",
       "    </tr>\n",
       "    <tr>\n",
       "      <th>b</th>\n",
       "      <td>tanaka</td>\n",
       "      <td>156</td>\n",
       "      <td>54</td>\n",
       "      <td>34</td>\n",
       "      <td>t</td>\n",
       "      <td>t</td>\n",
       "      <td>30s</td>\n",
       "    </tr>\n",
       "    <tr>\n",
       "      <th>c</th>\n",
       "      <td>kudo</td>\n",
       "      <td>180</td>\n",
       "      <td>89</td>\n",
       "      <td>34</td>\n",
       "      <td>k</td>\n",
       "      <td>k</td>\n",
       "      <td>30s</td>\n",
       "    </tr>\n",
       "  </tbody>\n",
       "</table>\n",
       "</div>"
      ],
      "text/plain": [
       "           name  height  weight  age initial initial1 about\n",
       "dept                                                       \n",
       "a     takahashi     182      71   54       t        t   50s\n",
       "b        tanaka     156      54   34       t        t   30s\n",
       "c          kudo     180      89   34       k        k   30s"
      ]
     },
     "metadata": {},
     "output_type": "display_data"
    }
   ],
   "source": [
    "display(grouped.max())   # グループの最大値を表示する"
   ]
  },
  {
   "cell_type": "code",
   "execution_count": 81,
   "metadata": {},
   "outputs": [
    {
     "data": {
      "text/html": [
       "<div>\n",
       "<style>\n",
       "    .dataframe thead tr:only-child th {\n",
       "        text-align: right;\n",
       "    }\n",
       "\n",
       "    .dataframe thead th {\n",
       "        text-align: left;\n",
       "    }\n",
       "\n",
       "    .dataframe tbody tr th {\n",
       "        vertical-align: top;\n",
       "    }\n",
       "</style>\n",
       "<table border=\"1\" class=\"dataframe\">\n",
       "  <thead>\n",
       "    <tr style=\"text-align: right;\">\n",
       "      <th></th>\n",
       "      <th>name</th>\n",
       "      <th>height</th>\n",
       "      <th>weight</th>\n",
       "      <th>age</th>\n",
       "      <th>initial</th>\n",
       "      <th>initial1</th>\n",
       "      <th>about</th>\n",
       "    </tr>\n",
       "    <tr>\n",
       "      <th>dept</th>\n",
       "      <th></th>\n",
       "      <th></th>\n",
       "      <th></th>\n",
       "      <th></th>\n",
       "      <th></th>\n",
       "      <th></th>\n",
       "      <th></th>\n",
       "    </tr>\n",
       "  </thead>\n",
       "  <tbody>\n",
       "    <tr>\n",
       "      <th>a</th>\n",
       "      <td>komachi</td>\n",
       "      <td>160</td>\n",
       "      <td>52</td>\n",
       "      <td>38</td>\n",
       "      <td>k</td>\n",
       "      <td>k</td>\n",
       "      <td>30s</td>\n",
       "    </tr>\n",
       "    <tr>\n",
       "      <th>b</th>\n",
       "      <td>nishida</td>\n",
       "      <td>147</td>\n",
       "      <td>42</td>\n",
       "      <td>31</td>\n",
       "      <td>n</td>\n",
       "      <td>n</td>\n",
       "      <td>30s</td>\n",
       "    </tr>\n",
       "    <tr>\n",
       "      <th>c</th>\n",
       "      <td>komori</td>\n",
       "      <td>165</td>\n",
       "      <td>65</td>\n",
       "      <td>26</td>\n",
       "      <td>k</td>\n",
       "      <td>k</td>\n",
       "      <td>20s</td>\n",
       "    </tr>\n",
       "  </tbody>\n",
       "</table>\n",
       "</div>"
      ],
      "text/plain": [
       "         name  height  weight  age initial initial1 about\n",
       "dept                                                     \n",
       "a     komachi     160      52   38       k        k   30s\n",
       "b     nishida     147      42   31       n        n   30s\n",
       "c      komori     165      65   26       k        k   20s"
      ]
     },
     "metadata": {},
     "output_type": "display_data"
    }
   ],
   "source": [
    "display(grouped.min())   # グループの最小値を表示する"
   ]
  },
  {
   "cell_type": "markdown",
   "metadata": {
    "slideshow": {
     "slide_type": "slide"
    }
   },
   "source": [
    "## 演習問題3\n",
    "-　各年代ごとの平均身長,平均体重,平均年齢を算出したdataframeを作成し、表示せよ"
   ]
  },
  {
   "cell_type": "code",
   "execution_count": 83,
   "metadata": {},
   "outputs": [
    {
     "data": {
      "text/html": [
       "<div>\n",
       "<style>\n",
       "    .dataframe thead tr:only-child th {\n",
       "        text-align: right;\n",
       "    }\n",
       "\n",
       "    .dataframe thead th {\n",
       "        text-align: left;\n",
       "    }\n",
       "\n",
       "    .dataframe tbody tr th {\n",
       "        vertical-align: top;\n",
       "    }\n",
       "</style>\n",
       "<table border=\"1\" class=\"dataframe\">\n",
       "  <thead>\n",
       "    <tr style=\"text-align: right;\">\n",
       "      <th></th>\n",
       "      <th>height</th>\n",
       "      <th>weight</th>\n",
       "      <th>age</th>\n",
       "    </tr>\n",
       "    <tr>\n",
       "      <th>about</th>\n",
       "      <th></th>\n",
       "      <th></th>\n",
       "      <th></th>\n",
       "    </tr>\n",
       "  </thead>\n",
       "  <tbody>\n",
       "    <tr>\n",
       "      <th>20s</th>\n",
       "      <td>165.00</td>\n",
       "      <td>65.00</td>\n",
       "      <td>26.00</td>\n",
       "    </tr>\n",
       "    <tr>\n",
       "      <th>30s</th>\n",
       "      <td>160.75</td>\n",
       "      <td>59.25</td>\n",
       "      <td>34.25</td>\n",
       "    </tr>\n",
       "    <tr>\n",
       "      <th>40s</th>\n",
       "      <td>182.00</td>\n",
       "      <td>71.00</td>\n",
       "      <td>49.00</td>\n",
       "    </tr>\n",
       "    <tr>\n",
       "      <th>50s</th>\n",
       "      <td>170.00</td>\n",
       "      <td>67.00</td>\n",
       "      <td>54.00</td>\n",
       "    </tr>\n",
       "  </tbody>\n",
       "</table>\n",
       "</div>"
      ],
      "text/plain": [
       "       height  weight    age\n",
       "about                       \n",
       "20s    165.00   65.00  26.00\n",
       "30s    160.75   59.25  34.25\n",
       "40s    182.00   71.00  49.00\n",
       "50s    170.00   67.00  54.00"
      ]
     },
     "metadata": {},
     "output_type": "display_data"
    }
   ],
   "source": [
    "grouped = df.groupby(\"about\")   # dfのabout列でグルーピングして、groupedに代入する\n",
    "df_about_mean = grouped.mean()   # グループの平均値をdf_about_meanに代入する\n",
    "display(df_about_mean)   # df_about_meanを出力する"
   ]
  },
  {
   "cell_type": "markdown",
   "metadata": {
    "slideshow": {
     "slide_type": "slide"
    }
   },
   "source": [
    "## Pandasを使ってできること\n",
    "- データフレームの結合\n",
    "- 並び替え\n",
    "- 置換\n",
    "- 条件を用いたデータの取り出し\n",
    "- 欠損値処理\n",
    "- ダミー変数化\n",
    "- 学習データと検証データへの分割\n",
    "など"
   ]
  },
  {
   "cell_type": "markdown",
   "metadata": {
    "slideshow": {
     "slide_type": "slide"
    }
   },
   "source": [
    "# 宿題"
   ]
  },
  {
   "cell_type": "markdown",
   "metadata": {
    "slideshow": {
     "slide_type": "slide"
    }
   },
   "source": [
    "## 問題１\n",
    "- ramen.csvを読み込み、駅ごとのポイントの最大値と平均値のデータフレームをそれぞれ作成せよ"
   ]
  },
  {
   "cell_type": "code",
   "execution_count": 94,
   "metadata": {},
   "outputs": [
    {
     "data": {
      "text/html": [
       "<div>\n",
       "<style>\n",
       "    .dataframe thead tr:only-child th {\n",
       "        text-align: right;\n",
       "    }\n",
       "\n",
       "    .dataframe thead th {\n",
       "        text-align: left;\n",
       "    }\n",
       "\n",
       "    .dataframe tbody tr th {\n",
       "        vertical-align: top;\n",
       "    }\n",
       "</style>\n",
       "<table border=\"1\" class=\"dataframe\">\n",
       "  <thead>\n",
       "    <tr style=\"text-align: right;\">\n",
       "      <th></th>\n",
       "      <th>points</th>\n",
       "    </tr>\n",
       "    <tr>\n",
       "      <th>station</th>\n",
       "      <th></th>\n",
       "    </tr>\n",
       "  </thead>\n",
       "  <tbody>\n",
       "    <tr>\n",
       "      <th>三軒茶屋</th>\n",
       "      <td>79.270000</td>\n",
       "    </tr>\n",
       "    <tr>\n",
       "      <th>上北沢</th>\n",
       "      <td>87.740000</td>\n",
       "    </tr>\n",
       "    <tr>\n",
       "      <th>上町</th>\n",
       "      <td>86.330000</td>\n",
       "    </tr>\n",
       "    <tr>\n",
       "      <th>上野御徒町</th>\n",
       "      <td>82.590000</td>\n",
       "    </tr>\n",
       "    <tr>\n",
       "      <th>上野毛</th>\n",
       "      <td>81.630000</td>\n",
       "    </tr>\n",
       "    <tr>\n",
       "      <th>下北沢</th>\n",
       "      <td>81.172500</td>\n",
       "    </tr>\n",
       "    <tr>\n",
       "      <th>五反田</th>\n",
       "      <td>82.885000</td>\n",
       "    </tr>\n",
       "    <tr>\n",
       "      <th>仲御徒町</th>\n",
       "      <td>81.035000</td>\n",
       "    </tr>\n",
       "    <tr>\n",
       "      <th>入谷</th>\n",
       "      <td>88.740000</td>\n",
       "    </tr>\n",
       "    <tr>\n",
       "      <th>北品川</th>\n",
       "      <td>83.280000</td>\n",
       "    </tr>\n",
       "    <tr>\n",
       "      <th>千歳船橋</th>\n",
       "      <td>84.903333</td>\n",
       "    </tr>\n",
       "    <tr>\n",
       "      <th>大井町</th>\n",
       "      <td>83.672000</td>\n",
       "    </tr>\n",
       "    <tr>\n",
       "      <th>大森海岸</th>\n",
       "      <td>87.405000</td>\n",
       "    </tr>\n",
       "    <tr>\n",
       "      <th>尾山台</th>\n",
       "      <td>76.870000</td>\n",
       "    </tr>\n",
       "    <tr>\n",
       "      <th>戸越銀座</th>\n",
       "      <td>79.870000</td>\n",
       "    </tr>\n",
       "    <tr>\n",
       "      <th>新代田</th>\n",
       "      <td>83.340000</td>\n",
       "    </tr>\n",
       "    <tr>\n",
       "      <th>新馬場</th>\n",
       "      <td>83.030000</td>\n",
       "    </tr>\n",
       "    <tr>\n",
       "      <th>旗の台</th>\n",
       "      <td>84.650000</td>\n",
       "    </tr>\n",
       "    <tr>\n",
       "      <th>明大前</th>\n",
       "      <td>77.530000</td>\n",
       "    </tr>\n",
       "    <tr>\n",
       "      <th>桜新町</th>\n",
       "      <td>79.390000</td>\n",
       "    </tr>\n",
       "    <tr>\n",
       "      <th>武蔵小山</th>\n",
       "      <td>80.440000</td>\n",
       "    </tr>\n",
       "    <tr>\n",
       "      <th>浅草</th>\n",
       "      <td>82.330000</td>\n",
       "    </tr>\n",
       "    <tr>\n",
       "      <th>浅草橋</th>\n",
       "      <td>81.760000</td>\n",
       "    </tr>\n",
       "    <tr>\n",
       "      <th>目黒</th>\n",
       "      <td>81.725000</td>\n",
       "    </tr>\n",
       "    <tr>\n",
       "      <th>祖師ヶ谷大蔵</th>\n",
       "      <td>83.080000</td>\n",
       "    </tr>\n",
       "    <tr>\n",
       "      <th>稲荷町</th>\n",
       "      <td>83.124000</td>\n",
       "    </tr>\n",
       "    <tr>\n",
       "      <th>荏原中延</th>\n",
       "      <td>85.395000</td>\n",
       "    </tr>\n",
       "    <tr>\n",
       "      <th>蔵前</th>\n",
       "      <td>82.640000</td>\n",
       "    </tr>\n",
       "    <tr>\n",
       "      <th>青物横丁</th>\n",
       "      <td>40.270000</td>\n",
       "    </tr>\n",
       "    <tr>\n",
       "      <th>駒沢大学</th>\n",
       "      <td>83.935000</td>\n",
       "    </tr>\n",
       "    <tr>\n",
       "      <th>鶯谷</th>\n",
       "      <td>82.240000</td>\n",
       "    </tr>\n",
       "  </tbody>\n",
       "</table>\n",
       "</div>"
      ],
      "text/plain": [
       "            points\n",
       "station           \n",
       "三軒茶屋     79.270000\n",
       "上北沢      87.740000\n",
       "上町       86.330000\n",
       "上野御徒町    82.590000\n",
       "上野毛      81.630000\n",
       "下北沢      81.172500\n",
       "五反田      82.885000\n",
       "仲御徒町     81.035000\n",
       "入谷       88.740000\n",
       "北品川      83.280000\n",
       "千歳船橋     84.903333\n",
       "大井町      83.672000\n",
       "大森海岸     87.405000\n",
       "尾山台      76.870000\n",
       "戸越銀座     79.870000\n",
       "新代田      83.340000\n",
       "新馬場      83.030000\n",
       "旗の台      84.650000\n",
       "明大前      77.530000\n",
       "桜新町      79.390000\n",
       "武蔵小山     80.440000\n",
       "浅草       82.330000\n",
       "浅草橋      81.760000\n",
       "目黒       81.725000\n",
       "祖師ヶ谷大蔵   83.080000\n",
       "稲荷町      83.124000\n",
       "荏原中延     85.395000\n",
       "蔵前       82.640000\n",
       "青物横丁     40.270000\n",
       "駒沢大学     83.935000\n",
       "鶯谷       82.240000"
      ]
     },
     "metadata": {},
     "output_type": "display_data"
    },
    {
     "data": {
      "text/html": [
       "<div>\n",
       "<style>\n",
       "    .dataframe thead tr:only-child th {\n",
       "        text-align: right;\n",
       "    }\n",
       "\n",
       "    .dataframe thead th {\n",
       "        text-align: left;\n",
       "    }\n",
       "\n",
       "    .dataframe tbody tr th {\n",
       "        vertical-align: top;\n",
       "    }\n",
       "</style>\n",
       "<table border=\"1\" class=\"dataframe\">\n",
       "  <thead>\n",
       "    <tr style=\"text-align: right;\">\n",
       "      <th></th>\n",
       "      <th>name</th>\n",
       "      <th>area</th>\n",
       "      <th>points</th>\n",
       "    </tr>\n",
       "    <tr>\n",
       "      <th>station</th>\n",
       "      <th></th>\n",
       "      <th></th>\n",
       "      <th></th>\n",
       "    </tr>\n",
       "  </thead>\n",
       "  <tbody>\n",
       "    <tr>\n",
       "      <th>三軒茶屋</th>\n",
       "      <td>らーめん 茂木</td>\n",
       "      <td>東京都世田谷区</td>\n",
       "      <td>82.50</td>\n",
       "    </tr>\n",
       "    <tr>\n",
       "      <th>上北沢</th>\n",
       "      <td>らぁめん小池</td>\n",
       "      <td>東京都世田谷区</td>\n",
       "      <td>87.74</td>\n",
       "    </tr>\n",
       "    <tr>\n",
       "      <th>上町</th>\n",
       "      <td>らーめん陸</td>\n",
       "      <td>東京都世田谷区</td>\n",
       "      <td>86.33</td>\n",
       "    </tr>\n",
       "    <tr>\n",
       "      <th>上野御徒町</th>\n",
       "      <td>麺処 花田 上野店</td>\n",
       "      <td>東京都台東区</td>\n",
       "      <td>84.93</td>\n",
       "    </tr>\n",
       "    <tr>\n",
       "      <th>上野毛</th>\n",
       "      <td>ラーメン二郎 上野毛店</td>\n",
       "      <td>東京都世田谷区</td>\n",
       "      <td>81.63</td>\n",
       "    </tr>\n",
       "    <tr>\n",
       "      <th>下北沢</th>\n",
       "      <td>鶏そばつけそば そると</td>\n",
       "      <td>東京都世田谷区</td>\n",
       "      <td>84.64</td>\n",
       "    </tr>\n",
       "    <tr>\n",
       "      <th>五反田</th>\n",
       "      <td>浜屋 五反田店</td>\n",
       "      <td>東京都品川区</td>\n",
       "      <td>83.00</td>\n",
       "    </tr>\n",
       "    <tr>\n",
       "      <th>仲御徒町</th>\n",
       "      <td>富白 御徒町本店</td>\n",
       "      <td>東京都台東区</td>\n",
       "      <td>81.64</td>\n",
       "    </tr>\n",
       "    <tr>\n",
       "      <th>入谷</th>\n",
       "      <td>麺処 晴</td>\n",
       "      <td>東京都台東区</td>\n",
       "      <td>88.74</td>\n",
       "    </tr>\n",
       "    <tr>\n",
       "      <th>北品川</th>\n",
       "      <td>ラーメン二郎 品川店</td>\n",
       "      <td>東京都品川区</td>\n",
       "      <td>83.28</td>\n",
       "    </tr>\n",
       "    <tr>\n",
       "      <th>千歳船橋</th>\n",
       "      <td>自家製中華そば 勢得</td>\n",
       "      <td>東京都世田谷区</td>\n",
       "      <td>87.27</td>\n",
       "    </tr>\n",
       "    <tr>\n",
       "      <th>大井町</th>\n",
       "      <td>青竹平打ち中華そば 麺壱吉兆</td>\n",
       "      <td>東京都品川区</td>\n",
       "      <td>85.93</td>\n",
       "    </tr>\n",
       "    <tr>\n",
       "      <th>大森海岸</th>\n",
       "      <td>ソバダイニング クワトロ</td>\n",
       "      <td>東京都品川区</td>\n",
       "      <td>89.69</td>\n",
       "    </tr>\n",
       "    <tr>\n",
       "      <th>尾山台</th>\n",
       "      <td>らーめん 陸 尾山台店</td>\n",
       "      <td>東京都世田谷区</td>\n",
       "      <td>76.87</td>\n",
       "    </tr>\n",
       "    <tr>\n",
       "      <th>戸越銀座</th>\n",
       "      <td>戸越らーめん えにし</td>\n",
       "      <td>東京都品川区</td>\n",
       "      <td>79.87</td>\n",
       "    </tr>\n",
       "    <tr>\n",
       "      <th>新代田</th>\n",
       "      <td>ラーメン二郎 環七新新代田店</td>\n",
       "      <td>東京都世田谷区</td>\n",
       "      <td>83.34</td>\n",
       "    </tr>\n",
       "    <tr>\n",
       "      <th>新馬場</th>\n",
       "      <td>丸直</td>\n",
       "      <td>東京都品川区</td>\n",
       "      <td>83.03</td>\n",
       "    </tr>\n",
       "    <tr>\n",
       "      <th>旗の台</th>\n",
       "      <td>BumBunBlauCafe with BeeHive</td>\n",
       "      <td>東京都品川区</td>\n",
       "      <td>84.65</td>\n",
       "    </tr>\n",
       "    <tr>\n",
       "      <th>明大前</th>\n",
       "      <td>中華そば きび 明大前店</td>\n",
       "      <td>東京都世田谷区</td>\n",
       "      <td>77.53</td>\n",
       "    </tr>\n",
       "    <tr>\n",
       "      <th>桜新町</th>\n",
       "      <td>麺処 さとう 桜新町店</td>\n",
       "      <td>東京都世田谷区</td>\n",
       "      <td>79.39</td>\n",
       "    </tr>\n",
       "    <tr>\n",
       "      <th>武蔵小山</th>\n",
       "      <td>麺恋処 爆龍</td>\n",
       "      <td>東京都品川区</td>\n",
       "      <td>80.44</td>\n",
       "    </tr>\n",
       "    <tr>\n",
       "      <th>浅草</th>\n",
       "      <td>麺屋 紅</td>\n",
       "      <td>東京都台東区</td>\n",
       "      <td>85.04</td>\n",
       "    </tr>\n",
       "    <tr>\n",
       "      <th>浅草橋</th>\n",
       "      <td>ろく月</td>\n",
       "      <td>東京都台東区</td>\n",
       "      <td>82.39</td>\n",
       "    </tr>\n",
       "    <tr>\n",
       "      <th>目黒</th>\n",
       "      <td>麺や維新</td>\n",
       "      <td>東京都品川区</td>\n",
       "      <td>83.36</td>\n",
       "    </tr>\n",
       "    <tr>\n",
       "      <th>祖師ヶ谷大蔵</th>\n",
       "      <td>辛っとろ麻婆麺 あかずきん</td>\n",
       "      <td>東京都世田谷区</td>\n",
       "      <td>83.08</td>\n",
       "    </tr>\n",
       "    <tr>\n",
       "      <th>稲荷町</th>\n",
       "      <td>稲荷屋</td>\n",
       "      <td>東京都台東区</td>\n",
       "      <td>87.05</td>\n",
       "    </tr>\n",
       "    <tr>\n",
       "      <th>荏原中延</th>\n",
       "      <td>多賀野</td>\n",
       "      <td>東京都品川区</td>\n",
       "      <td>88.84</td>\n",
       "    </tr>\n",
       "    <tr>\n",
       "      <th>蔵前</th>\n",
       "      <td>蔵前元楽</td>\n",
       "      <td>東京都台東区</td>\n",
       "      <td>85.50</td>\n",
       "    </tr>\n",
       "    <tr>\n",
       "      <th>青物横丁</th>\n",
       "      <td>博多ラーメン 長浜や 青物横丁店</td>\n",
       "      <td>東京都品川区</td>\n",
       "      <td>80.54</td>\n",
       "    </tr>\n",
       "    <tr>\n",
       "      <th>駒沢大学</th>\n",
       "      <td>蓮爾 新町一丁目店</td>\n",
       "      <td>東京都世田谷区</td>\n",
       "      <td>84.28</td>\n",
       "    </tr>\n",
       "    <tr>\n",
       "      <th>鶯谷</th>\n",
       "      <td>中華そば 七麺鳥</td>\n",
       "      <td>東京都台東区</td>\n",
       "      <td>83.01</td>\n",
       "    </tr>\n",
       "  </tbody>\n",
       "</table>\n",
       "</div>"
      ],
      "text/plain": [
       "                                name     area  points\n",
       "station                                              \n",
       "三軒茶屋                         らーめん 茂木  東京都世田谷区   82.50\n",
       "上北沢                           らぁめん小池  東京都世田谷区   87.74\n",
       "上町                             らーめん陸  東京都世田谷区   86.33\n",
       "上野御徒町                      麺処 花田 上野店   東京都台東区   84.93\n",
       "上野毛                      ラーメン二郎 上野毛店  東京都世田谷区   81.63\n",
       "下北沢                      鶏そばつけそば そると  東京都世田谷区   84.64\n",
       "五反田                          浜屋 五反田店   東京都品川区   83.00\n",
       "仲御徒町                        富白 御徒町本店   東京都台東区   81.64\n",
       "入谷                              麺処 晴   東京都台東区   88.74\n",
       "北品川                       ラーメン二郎 品川店   東京都品川区   83.28\n",
       "千歳船橋                      自家製中華そば 勢得  東京都世田谷区   87.27\n",
       "大井町                   青竹平打ち中華そば 麺壱吉兆   東京都品川区   85.93\n",
       "大森海岸                    ソバダイニング クワトロ   東京都品川区   89.69\n",
       "尾山台                      らーめん 陸 尾山台店  東京都世田谷区   76.87\n",
       "戸越銀座                      戸越らーめん えにし   東京都品川区   79.87\n",
       "新代田                   ラーメン二郎 環七新新代田店  東京都世田谷区   83.34\n",
       "新馬場                               丸直   東京都品川区   83.03\n",
       "旗の台      BumBunBlauCafe with BeeHive   東京都品川区   84.65\n",
       "明大前                     中華そば きび 明大前店  東京都世田谷区   77.53\n",
       "桜新町                      麺処 さとう 桜新町店  東京都世田谷区   79.39\n",
       "武蔵小山                          麺恋処 爆龍   東京都品川区   80.44\n",
       "浅草                              麺屋 紅   東京都台東区   85.04\n",
       "浅草橋                              ろく月   東京都台東区   82.39\n",
       "目黒                              麺や維新   東京都品川区   83.36\n",
       "祖師ヶ谷大蔵                 辛っとろ麻婆麺 あかずきん  東京都世田谷区   83.08\n",
       "稲荷町                              稲荷屋   東京都台東区   87.05\n",
       "荏原中延                             多賀野   東京都品川区   88.84\n",
       "蔵前                              蔵前元楽   東京都台東区   85.50\n",
       "青物横丁                博多ラーメン 長浜や 青物横丁店   東京都品川区   80.54\n",
       "駒沢大学                       蓮爾 新町一丁目店  東京都世田谷区   84.28\n",
       "鶯谷                          中華そば 七麺鳥   東京都台東区   83.01"
      ]
     },
     "metadata": {},
     "output_type": "display_data"
    }
   ],
   "source": [
    "df = pd.read_csv(\"ramen.csv\", encoding = \"utf-8\")   # ramen.csvを文字コードutf-8で読み込み、dfに代入する\n",
    "df   # dfを出力する\n",
    "\n",
    "grouped = df.groupby(\"station\")   # dfのstation列でグルーピングして、groupedに代入する\n",
    "df_station_mean = grouped.mean()   # グループの平均値をdf_station_meanに代入する\n",
    "df_station_maximum = grouped.max()   # グループの最大値をdf_station_maximumに代入する\n",
    "display(df_station_mean, df_station_maximum)   # df_station_mean、df_station_maximumを出力する"
   ]
  },
  {
   "cell_type": "markdown",
   "metadata": {
    "slideshow": {
     "slide_type": "slide"
    }
   },
   "source": [
    "## 問題2\n",
    "- ramen.csvを読み込み、区ごとのポイントの最大値と平均値のデータフレームをそれぞれ作成せよ"
   ]
  },
  {
   "cell_type": "code",
   "execution_count": 93,
   "metadata": {},
   "outputs": [
    {
     "data": {
      "text/html": [
       "<div>\n",
       "<style>\n",
       "    .dataframe thead tr:only-child th {\n",
       "        text-align: right;\n",
       "    }\n",
       "\n",
       "    .dataframe thead th {\n",
       "        text-align: left;\n",
       "    }\n",
       "\n",
       "    .dataframe tbody tr th {\n",
       "        vertical-align: top;\n",
       "    }\n",
       "</style>\n",
       "<table border=\"1\" class=\"dataframe\">\n",
       "  <thead>\n",
       "    <tr style=\"text-align: right;\">\n",
       "      <th></th>\n",
       "      <th>points</th>\n",
       "    </tr>\n",
       "    <tr>\n",
       "      <th>area</th>\n",
       "      <th></th>\n",
       "    </tr>\n",
       "  </thead>\n",
       "  <tbody>\n",
       "    <tr>\n",
       "      <th>東京都世田谷区</th>\n",
       "      <td>82.0495</td>\n",
       "    </tr>\n",
       "    <tr>\n",
       "      <th>東京都台東区</th>\n",
       "      <td>82.7235</td>\n",
       "    </tr>\n",
       "    <tr>\n",
       "      <th>東京都品川区</th>\n",
       "      <td>79.2495</td>\n",
       "    </tr>\n",
       "  </tbody>\n",
       "</table>\n",
       "</div>"
      ],
      "text/plain": [
       "          points\n",
       "area            \n",
       "東京都世田谷区  82.0495\n",
       "東京都台東区   82.7235\n",
       "東京都品川区   79.2495"
      ]
     },
     "metadata": {},
     "output_type": "display_data"
    },
    {
     "data": {
      "text/html": [
       "<div>\n",
       "<style>\n",
       "    .dataframe thead tr:only-child th {\n",
       "        text-align: right;\n",
       "    }\n",
       "\n",
       "    .dataframe thead th {\n",
       "        text-align: left;\n",
       "    }\n",
       "\n",
       "    .dataframe tbody tr th {\n",
       "        vertical-align: top;\n",
       "    }\n",
       "</style>\n",
       "<table border=\"1\" class=\"dataframe\">\n",
       "  <thead>\n",
       "    <tr style=\"text-align: right;\">\n",
       "      <th></th>\n",
       "      <th>name</th>\n",
       "      <th>station</th>\n",
       "      <th>points</th>\n",
       "      <th>ward</th>\n",
       "    </tr>\n",
       "    <tr>\n",
       "      <th>area</th>\n",
       "      <th></th>\n",
       "      <th></th>\n",
       "      <th></th>\n",
       "      <th></th>\n",
       "    </tr>\n",
       "  </thead>\n",
       "  <tbody>\n",
       "    <tr>\n",
       "      <th>東京都世田谷区</th>\n",
       "      <td>麺処 さとう 桜新町店</td>\n",
       "      <td>駒沢大学</td>\n",
       "      <td>87.74</td>\n",
       "      <td>世</td>\n",
       "    </tr>\n",
       "    <tr>\n",
       "      <th>東京都台東区</th>\n",
       "      <td>麺屋 紅</td>\n",
       "      <td>鶯谷</td>\n",
       "      <td>88.74</td>\n",
       "      <td>台</td>\n",
       "    </tr>\n",
       "    <tr>\n",
       "      <th>東京都品川区</th>\n",
       "      <td>麺恋処 爆龍</td>\n",
       "      <td>青物横丁</td>\n",
       "      <td>89.69</td>\n",
       "      <td>品</td>\n",
       "    </tr>\n",
       "  </tbody>\n",
       "</table>\n",
       "</div>"
      ],
      "text/plain": [
       "                name station  points ward\n",
       "area                                     \n",
       "東京都世田谷区  麺処 さとう 桜新町店    駒沢大学   87.74    世\n",
       "東京都台東区          麺屋 紅      鶯谷   88.74    台\n",
       "東京都品川区        麺恋処 爆龍    青物横丁   89.69    品"
      ]
     },
     "metadata": {},
     "output_type": "display_data"
    }
   ],
   "source": [
    "grouped = df.groupby(\"area\")   # dfのarea列でグルーピングして、groupedに代入する\n",
    "df_area_mean = grouped.mean()   # グループの平均値をdf_area_meanに代入する\n",
    "df_area_maximum = grouped.max()   # グループの最大値をdf_area_maximumに代入する\n",
    "display(df_area_mean, df_area_maximum)   # df_area_mean、df_area_maximumを出力する"
   ]
  }
 ],
 "metadata": {
  "celltoolbar": "Slideshow",
  "kernelspec": {
   "display_name": "Python 3",
   "language": "python",
   "name": "python3"
  },
  "language_info": {
   "codemirror_mode": {
    "name": "ipython",
    "version": 3
   },
   "file_extension": ".py",
   "mimetype": "text/x-python",
   "name": "python",
   "nbconvert_exporter": "python",
   "pygments_lexer": "ipython3",
   "version": "3.6.2"
  },
  "toc": {
   "base_numbering": 1,
   "nav_menu": {},
   "number_sections": true,
   "sideBar": true,
   "skip_h1_title": false,
   "title_cell": "Table of Contents",
   "title_sidebar": "Contents",
   "toc_cell": false,
   "toc_position": {},
   "toc_section_display": true,
   "toc_window_display": true
  }
 },
 "nbformat": 4,
 "nbformat_minor": 2
}
